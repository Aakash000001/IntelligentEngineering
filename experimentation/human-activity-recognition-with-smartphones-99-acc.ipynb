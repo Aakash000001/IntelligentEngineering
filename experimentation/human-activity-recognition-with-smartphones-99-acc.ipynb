{
 "cells": [
  {
   "cell_type": "markdown",
   "id": "fd53a987",
   "metadata": {
    "papermill": {
     "duration": 0.054036,
     "end_time": "2022-03-05T13:40:38.762733",
     "exception": false,
     "start_time": "2022-03-05T13:40:38.708697",
     "status": "completed"
    },
    "tags": []
   },
   "source": [
    "# Import library"
   ]
  },
  {
   "cell_type": "code",
   "execution_count": 10,
   "id": "da1b8a79",
   "metadata": {
    "execution": {
     "iopub.execute_input": "2022-03-05T13:40:38.881427Z",
     "iopub.status.busy": "2022-03-05T13:40:38.880704Z",
     "iopub.status.idle": "2022-03-05T13:40:40.047088Z",
     "shell.execute_reply": "2022-03-05T13:40:40.045582Z",
     "shell.execute_reply.started": "2022-03-05T13:32:40.457173Z"
    },
    "papermill": {
     "duration": 1.228663,
     "end_time": "2022-03-05T13:40:40.047354",
     "exception": false,
     "start_time": "2022-03-05T13:40:38.818691",
     "status": "completed"
    },
    "tags": []
   },
   "outputs": [],
   "source": [
    "import numpy as np \n",
    "import pandas as pd\n",
    "from matplotlib import pyplot as plt\n",
    "import seaborn as sns\n"
   ]
  },
  {
   "cell_type": "code",
   "execution_count": 11,
   "id": "d77bb3ba",
   "metadata": {
    "execution": {
     "iopub.execute_input": "2022-03-05T13:40:40.160716Z",
     "iopub.status.busy": "2022-03-05T13:40:40.159933Z",
     "iopub.status.idle": "2022-03-05T13:40:40.174238Z",
     "shell.execute_reply": "2022-03-05T13:40:40.174761Z",
     "shell.execute_reply.started": "2022-03-05T13:32:41.311165Z"
    },
    "papermill": {
     "duration": 0.074004,
     "end_time": "2022-03-05T13:40:40.174960",
     "exception": false,
     "start_time": "2022-03-05T13:40:40.100956",
     "status": "completed"
    },
    "tags": []
   },
   "outputs": [
    {
     "name": "stdout",
     "output_type": "stream",
     "text": [
      "C:/Users/Aakash Chezhian/Documents/IntelligentEngineering/requirements.txt\n",
      "C:/Users/Aakash Chezhian/Documents/IntelligentEngineering/test.csv\n",
      "C:/Users/Aakash Chezhian/Documents/IntelligentEngineering/train.csv\n",
      "C:/Users/Aakash Chezhian/Documents/IntelligentEngineering/experimentation\\human-activity-recognition-with-smartphones-99-acc.ipynb\n"
     ]
    }
   ],
   "source": [
    "\n",
    "import os\n",
    "for dirname, _, filenames in os.walk('C:/Users/Aakash Chezhian/Documents/IntelligentEngineering/'):\n",
    "    for filename in filenames:\n",
    "        print(os.path.join(dirname, filename))\n"
   ]
  },
  {
   "cell_type": "markdown",
   "id": "28a115a1",
   "metadata": {
    "papermill": {
     "duration": 0.054591,
     "end_time": "2022-03-05T13:40:40.283484",
     "exception": false,
     "start_time": "2022-03-05T13:40:40.228893",
     "status": "completed"
    },
    "tags": []
   },
   "source": [
    "# Load The train dataset"
   ]
  },
  {
   "cell_type": "code",
   "execution_count": 12,
   "id": "e49c0826",
   "metadata": {
    "execution": {
     "iopub.execute_input": "2022-03-05T13:40:40.403665Z",
     "iopub.status.busy": "2022-03-05T13:40:40.402816Z",
     "iopub.status.idle": "2022-03-05T13:40:42.199456Z",
     "shell.execute_reply": "2022-03-05T13:40:42.198838Z",
     "shell.execute_reply.started": "2022-03-05T13:32:41.325984Z"
    },
    "papermill": {
     "duration": 1.860361,
     "end_time": "2022-03-05T13:40:42.199637",
     "exception": false,
     "start_time": "2022-03-05T13:40:40.339276",
     "status": "completed"
    },
    "tags": []
   },
   "outputs": [],
   "source": [
    "df_train=pd.read_csv('C:/Users/Aakash Chezhian/Documents/IntelligentEngineering/train.csv')"
   ]
  },
  {
   "cell_type": "code",
   "execution_count": 13,
   "id": "88310491",
   "metadata": {
    "execution": {
     "iopub.execute_input": "2022-03-05T13:40:42.316719Z",
     "iopub.status.busy": "2022-03-05T13:40:42.315959Z",
     "iopub.status.idle": "2022-03-05T13:40:42.348121Z",
     "shell.execute_reply": "2022-03-05T13:40:42.347402Z",
     "shell.execute_reply.started": "2022-03-05T13:32:42.560761Z"
    },
    "papermill": {
     "duration": 0.096554,
     "end_time": "2022-03-05T13:40:42.348297",
     "exception": false,
     "start_time": "2022-03-05T13:40:42.251743",
     "status": "completed"
    },
    "tags": []
   },
   "outputs": [
    {
     "data": {
      "text/html": [
       "<div>\n",
       "<style scoped>\n",
       "    .dataframe tbody tr th:only-of-type {\n",
       "        vertical-align: middle;\n",
       "    }\n",
       "\n",
       "    .dataframe tbody tr th {\n",
       "        vertical-align: top;\n",
       "    }\n",
       "\n",
       "    .dataframe thead th {\n",
       "        text-align: right;\n",
       "    }\n",
       "</style>\n",
       "<table border=\"1\" class=\"dataframe\">\n",
       "  <thead>\n",
       "    <tr style=\"text-align: right;\">\n",
       "      <th></th>\n",
       "      <th>tBodyAcc-mean()-X</th>\n",
       "      <th>tBodyAcc-mean()-Y</th>\n",
       "      <th>tBodyAcc-mean()-Z</th>\n",
       "      <th>tBodyAcc-std()-X</th>\n",
       "      <th>tBodyAcc-std()-Y</th>\n",
       "      <th>tBodyAcc-std()-Z</th>\n",
       "      <th>tBodyAcc-mad()-X</th>\n",
       "      <th>tBodyAcc-mad()-Y</th>\n",
       "      <th>tBodyAcc-mad()-Z</th>\n",
       "      <th>tBodyAcc-max()-X</th>\n",
       "      <th>...</th>\n",
       "      <th>fBodyBodyGyroJerkMag-kurtosis()</th>\n",
       "      <th>angle(tBodyAccMean,gravity)</th>\n",
       "      <th>angle(tBodyAccJerkMean),gravityMean)</th>\n",
       "      <th>angle(tBodyGyroMean,gravityMean)</th>\n",
       "      <th>angle(tBodyGyroJerkMean,gravityMean)</th>\n",
       "      <th>angle(X,gravityMean)</th>\n",
       "      <th>angle(Y,gravityMean)</th>\n",
       "      <th>angle(Z,gravityMean)</th>\n",
       "      <th>subject</th>\n",
       "      <th>Activity</th>\n",
       "    </tr>\n",
       "  </thead>\n",
       "  <tbody>\n",
       "    <tr>\n",
       "      <th>0</th>\n",
       "      <td>0.288585</td>\n",
       "      <td>-0.020294</td>\n",
       "      <td>-0.132905</td>\n",
       "      <td>-0.995279</td>\n",
       "      <td>-0.983111</td>\n",
       "      <td>-0.913526</td>\n",
       "      <td>-0.995112</td>\n",
       "      <td>-0.983185</td>\n",
       "      <td>-0.923527</td>\n",
       "      <td>-0.934724</td>\n",
       "      <td>...</td>\n",
       "      <td>-0.710304</td>\n",
       "      <td>-0.112754</td>\n",
       "      <td>0.030400</td>\n",
       "      <td>-0.464761</td>\n",
       "      <td>-0.018446</td>\n",
       "      <td>-0.841247</td>\n",
       "      <td>0.179941</td>\n",
       "      <td>-0.058627</td>\n",
       "      <td>1</td>\n",
       "      <td>STANDING</td>\n",
       "    </tr>\n",
       "    <tr>\n",
       "      <th>1</th>\n",
       "      <td>0.278419</td>\n",
       "      <td>-0.016411</td>\n",
       "      <td>-0.123520</td>\n",
       "      <td>-0.998245</td>\n",
       "      <td>-0.975300</td>\n",
       "      <td>-0.960322</td>\n",
       "      <td>-0.998807</td>\n",
       "      <td>-0.974914</td>\n",
       "      <td>-0.957686</td>\n",
       "      <td>-0.943068</td>\n",
       "      <td>...</td>\n",
       "      <td>-0.861499</td>\n",
       "      <td>0.053477</td>\n",
       "      <td>-0.007435</td>\n",
       "      <td>-0.732626</td>\n",
       "      <td>0.703511</td>\n",
       "      <td>-0.844788</td>\n",
       "      <td>0.180289</td>\n",
       "      <td>-0.054317</td>\n",
       "      <td>1</td>\n",
       "      <td>STANDING</td>\n",
       "    </tr>\n",
       "    <tr>\n",
       "      <th>2</th>\n",
       "      <td>0.279653</td>\n",
       "      <td>-0.019467</td>\n",
       "      <td>-0.113462</td>\n",
       "      <td>-0.995380</td>\n",
       "      <td>-0.967187</td>\n",
       "      <td>-0.978944</td>\n",
       "      <td>-0.996520</td>\n",
       "      <td>-0.963668</td>\n",
       "      <td>-0.977469</td>\n",
       "      <td>-0.938692</td>\n",
       "      <td>...</td>\n",
       "      <td>-0.760104</td>\n",
       "      <td>-0.118559</td>\n",
       "      <td>0.177899</td>\n",
       "      <td>0.100699</td>\n",
       "      <td>0.808529</td>\n",
       "      <td>-0.848933</td>\n",
       "      <td>0.180637</td>\n",
       "      <td>-0.049118</td>\n",
       "      <td>1</td>\n",
       "      <td>STANDING</td>\n",
       "    </tr>\n",
       "    <tr>\n",
       "      <th>3</th>\n",
       "      <td>0.279174</td>\n",
       "      <td>-0.026201</td>\n",
       "      <td>-0.123283</td>\n",
       "      <td>-0.996091</td>\n",
       "      <td>-0.983403</td>\n",
       "      <td>-0.990675</td>\n",
       "      <td>-0.997099</td>\n",
       "      <td>-0.982750</td>\n",
       "      <td>-0.989302</td>\n",
       "      <td>-0.938692</td>\n",
       "      <td>...</td>\n",
       "      <td>-0.482845</td>\n",
       "      <td>-0.036788</td>\n",
       "      <td>-0.012892</td>\n",
       "      <td>0.640011</td>\n",
       "      <td>-0.485366</td>\n",
       "      <td>-0.848649</td>\n",
       "      <td>0.181935</td>\n",
       "      <td>-0.047663</td>\n",
       "      <td>1</td>\n",
       "      <td>STANDING</td>\n",
       "    </tr>\n",
       "    <tr>\n",
       "      <th>4</th>\n",
       "      <td>0.276629</td>\n",
       "      <td>-0.016570</td>\n",
       "      <td>-0.115362</td>\n",
       "      <td>-0.998139</td>\n",
       "      <td>-0.980817</td>\n",
       "      <td>-0.990482</td>\n",
       "      <td>-0.998321</td>\n",
       "      <td>-0.979672</td>\n",
       "      <td>-0.990441</td>\n",
       "      <td>-0.942469</td>\n",
       "      <td>...</td>\n",
       "      <td>-0.699205</td>\n",
       "      <td>0.123320</td>\n",
       "      <td>0.122542</td>\n",
       "      <td>0.693578</td>\n",
       "      <td>-0.615971</td>\n",
       "      <td>-0.847865</td>\n",
       "      <td>0.185151</td>\n",
       "      <td>-0.043892</td>\n",
       "      <td>1</td>\n",
       "      <td>STANDING</td>\n",
       "    </tr>\n",
       "  </tbody>\n",
       "</table>\n",
       "<p>5 rows × 563 columns</p>\n",
       "</div>"
      ],
      "text/plain": [
       "   tBodyAcc-mean()-X  tBodyAcc-mean()-Y  tBodyAcc-mean()-Z  tBodyAcc-std()-X   \n",
       "0           0.288585          -0.020294          -0.132905         -0.995279  \\\n",
       "1           0.278419          -0.016411          -0.123520         -0.998245   \n",
       "2           0.279653          -0.019467          -0.113462         -0.995380   \n",
       "3           0.279174          -0.026201          -0.123283         -0.996091   \n",
       "4           0.276629          -0.016570          -0.115362         -0.998139   \n",
       "\n",
       "   tBodyAcc-std()-Y  tBodyAcc-std()-Z  tBodyAcc-mad()-X  tBodyAcc-mad()-Y   \n",
       "0         -0.983111         -0.913526         -0.995112         -0.983185  \\\n",
       "1         -0.975300         -0.960322         -0.998807         -0.974914   \n",
       "2         -0.967187         -0.978944         -0.996520         -0.963668   \n",
       "3         -0.983403         -0.990675         -0.997099         -0.982750   \n",
       "4         -0.980817         -0.990482         -0.998321         -0.979672   \n",
       "\n",
       "   tBodyAcc-mad()-Z  tBodyAcc-max()-X  ...  fBodyBodyGyroJerkMag-kurtosis()   \n",
       "0         -0.923527         -0.934724  ...                        -0.710304  \\\n",
       "1         -0.957686         -0.943068  ...                        -0.861499   \n",
       "2         -0.977469         -0.938692  ...                        -0.760104   \n",
       "3         -0.989302         -0.938692  ...                        -0.482845   \n",
       "4         -0.990441         -0.942469  ...                        -0.699205   \n",
       "\n",
       "   angle(tBodyAccMean,gravity)  angle(tBodyAccJerkMean),gravityMean)   \n",
       "0                    -0.112754                              0.030400  \\\n",
       "1                     0.053477                             -0.007435   \n",
       "2                    -0.118559                              0.177899   \n",
       "3                    -0.036788                             -0.012892   \n",
       "4                     0.123320                              0.122542   \n",
       "\n",
       "   angle(tBodyGyroMean,gravityMean)  angle(tBodyGyroJerkMean,gravityMean)   \n",
       "0                         -0.464761                             -0.018446  \\\n",
       "1                         -0.732626                              0.703511   \n",
       "2                          0.100699                              0.808529   \n",
       "3                          0.640011                             -0.485366   \n",
       "4                          0.693578                             -0.615971   \n",
       "\n",
       "   angle(X,gravityMean)  angle(Y,gravityMean)  angle(Z,gravityMean)  subject   \n",
       "0             -0.841247              0.179941             -0.058627        1  \\\n",
       "1             -0.844788              0.180289             -0.054317        1   \n",
       "2             -0.848933              0.180637             -0.049118        1   \n",
       "3             -0.848649              0.181935             -0.047663        1   \n",
       "4             -0.847865              0.185151             -0.043892        1   \n",
       "\n",
       "   Activity  \n",
       "0  STANDING  \n",
       "1  STANDING  \n",
       "2  STANDING  \n",
       "3  STANDING  \n",
       "4  STANDING  \n",
       "\n",
       "[5 rows x 563 columns]"
      ]
     },
     "execution_count": 13,
     "metadata": {},
     "output_type": "execute_result"
    }
   ],
   "source": [
    "df_train.head()"
   ]
  },
  {
   "cell_type": "code",
   "execution_count": 14,
   "id": "17cf7766",
   "metadata": {
    "execution": {
     "iopub.execute_input": "2022-03-05T13:40:42.483264Z",
     "iopub.status.busy": "2022-03-05T13:40:42.482198Z",
     "iopub.status.idle": "2022-03-05T13:40:42.486721Z",
     "shell.execute_reply": "2022-03-05T13:40:42.486033Z",
     "shell.execute_reply.started": "2022-03-05T13:32:42.594705Z"
    },
    "papermill": {
     "duration": 0.085201,
     "end_time": "2022-03-05T13:40:42.486882",
     "exception": false,
     "start_time": "2022-03-05T13:40:42.401681",
     "status": "completed"
    },
    "tags": []
   },
   "outputs": [
    {
     "data": {
      "text/html": [
       "<div>\n",
       "<style scoped>\n",
       "    .dataframe tbody tr th:only-of-type {\n",
       "        vertical-align: middle;\n",
       "    }\n",
       "\n",
       "    .dataframe tbody tr th {\n",
       "        vertical-align: top;\n",
       "    }\n",
       "\n",
       "    .dataframe thead th {\n",
       "        text-align: right;\n",
       "    }\n",
       "</style>\n",
       "<table border=\"1\" class=\"dataframe\">\n",
       "  <thead>\n",
       "    <tr style=\"text-align: right;\">\n",
       "      <th></th>\n",
       "      <th>tBodyAcc-mean()-X</th>\n",
       "      <th>tBodyAcc-mean()-Y</th>\n",
       "      <th>tBodyAcc-mean()-Z</th>\n",
       "      <th>tBodyAcc-std()-X</th>\n",
       "      <th>tBodyAcc-std()-Y</th>\n",
       "      <th>tBodyAcc-std()-Z</th>\n",
       "      <th>tBodyAcc-mad()-X</th>\n",
       "      <th>tBodyAcc-mad()-Y</th>\n",
       "      <th>tBodyAcc-mad()-Z</th>\n",
       "      <th>tBodyAcc-max()-X</th>\n",
       "      <th>...</th>\n",
       "      <th>fBodyBodyGyroJerkMag-kurtosis()</th>\n",
       "      <th>angle(tBodyAccMean,gravity)</th>\n",
       "      <th>angle(tBodyAccJerkMean),gravityMean)</th>\n",
       "      <th>angle(tBodyGyroMean,gravityMean)</th>\n",
       "      <th>angle(tBodyGyroJerkMean,gravityMean)</th>\n",
       "      <th>angle(X,gravityMean)</th>\n",
       "      <th>angle(Y,gravityMean)</th>\n",
       "      <th>angle(Z,gravityMean)</th>\n",
       "      <th>subject</th>\n",
       "      <th>Activity</th>\n",
       "    </tr>\n",
       "  </thead>\n",
       "  <tbody>\n",
       "    <tr>\n",
       "      <th>7347</th>\n",
       "      <td>0.299665</td>\n",
       "      <td>-0.057193</td>\n",
       "      <td>-0.181233</td>\n",
       "      <td>-0.195387</td>\n",
       "      <td>0.039905</td>\n",
       "      <td>0.077078</td>\n",
       "      <td>-0.282301</td>\n",
       "      <td>0.043616</td>\n",
       "      <td>0.060410</td>\n",
       "      <td>0.210795</td>\n",
       "      <td>...</td>\n",
       "      <td>-0.880324</td>\n",
       "      <td>-0.190437</td>\n",
       "      <td>0.829718</td>\n",
       "      <td>0.206972</td>\n",
       "      <td>-0.425619</td>\n",
       "      <td>-0.791883</td>\n",
       "      <td>0.238604</td>\n",
       "      <td>0.049819</td>\n",
       "      <td>30</td>\n",
       "      <td>WALKING_UPSTAIRS</td>\n",
       "    </tr>\n",
       "    <tr>\n",
       "      <th>7348</th>\n",
       "      <td>0.273853</td>\n",
       "      <td>-0.007749</td>\n",
       "      <td>-0.147468</td>\n",
       "      <td>-0.235309</td>\n",
       "      <td>0.004816</td>\n",
       "      <td>0.059280</td>\n",
       "      <td>-0.322552</td>\n",
       "      <td>-0.029456</td>\n",
       "      <td>0.080585</td>\n",
       "      <td>0.117440</td>\n",
       "      <td>...</td>\n",
       "      <td>-0.680744</td>\n",
       "      <td>0.064907</td>\n",
       "      <td>0.875679</td>\n",
       "      <td>-0.879033</td>\n",
       "      <td>0.400219</td>\n",
       "      <td>-0.771840</td>\n",
       "      <td>0.252676</td>\n",
       "      <td>0.050053</td>\n",
       "      <td>30</td>\n",
       "      <td>WALKING_UPSTAIRS</td>\n",
       "    </tr>\n",
       "    <tr>\n",
       "      <th>7349</th>\n",
       "      <td>0.273387</td>\n",
       "      <td>-0.017011</td>\n",
       "      <td>-0.045022</td>\n",
       "      <td>-0.218218</td>\n",
       "      <td>-0.103822</td>\n",
       "      <td>0.274533</td>\n",
       "      <td>-0.304515</td>\n",
       "      <td>-0.098913</td>\n",
       "      <td>0.332584</td>\n",
       "      <td>0.043999</td>\n",
       "      <td>...</td>\n",
       "      <td>-0.304029</td>\n",
       "      <td>0.052806</td>\n",
       "      <td>-0.266724</td>\n",
       "      <td>0.864404</td>\n",
       "      <td>0.701169</td>\n",
       "      <td>-0.779133</td>\n",
       "      <td>0.249145</td>\n",
       "      <td>0.040811</td>\n",
       "      <td>30</td>\n",
       "      <td>WALKING_UPSTAIRS</td>\n",
       "    </tr>\n",
       "    <tr>\n",
       "      <th>7350</th>\n",
       "      <td>0.289654</td>\n",
       "      <td>-0.018843</td>\n",
       "      <td>-0.158281</td>\n",
       "      <td>-0.219139</td>\n",
       "      <td>-0.111412</td>\n",
       "      <td>0.268893</td>\n",
       "      <td>-0.310487</td>\n",
       "      <td>-0.068200</td>\n",
       "      <td>0.319473</td>\n",
       "      <td>0.101702</td>\n",
       "      <td>...</td>\n",
       "      <td>-0.344314</td>\n",
       "      <td>-0.101360</td>\n",
       "      <td>0.700740</td>\n",
       "      <td>0.936674</td>\n",
       "      <td>-0.589479</td>\n",
       "      <td>-0.785181</td>\n",
       "      <td>0.246432</td>\n",
       "      <td>0.025339</td>\n",
       "      <td>30</td>\n",
       "      <td>WALKING_UPSTAIRS</td>\n",
       "    </tr>\n",
       "    <tr>\n",
       "      <th>7351</th>\n",
       "      <td>0.351503</td>\n",
       "      <td>-0.012423</td>\n",
       "      <td>-0.203867</td>\n",
       "      <td>-0.269270</td>\n",
       "      <td>-0.087212</td>\n",
       "      <td>0.177404</td>\n",
       "      <td>-0.377404</td>\n",
       "      <td>-0.038678</td>\n",
       "      <td>0.229430</td>\n",
       "      <td>0.269013</td>\n",
       "      <td>...</td>\n",
       "      <td>-0.740738</td>\n",
       "      <td>-0.280088</td>\n",
       "      <td>-0.007739</td>\n",
       "      <td>-0.056088</td>\n",
       "      <td>-0.616956</td>\n",
       "      <td>-0.783267</td>\n",
       "      <td>0.246809</td>\n",
       "      <td>0.036695</td>\n",
       "      <td>30</td>\n",
       "      <td>WALKING_UPSTAIRS</td>\n",
       "    </tr>\n",
       "  </tbody>\n",
       "</table>\n",
       "<p>5 rows × 563 columns</p>\n",
       "</div>"
      ],
      "text/plain": [
       "      tBodyAcc-mean()-X  tBodyAcc-mean()-Y  tBodyAcc-mean()-Z   \n",
       "7347           0.299665          -0.057193          -0.181233  \\\n",
       "7348           0.273853          -0.007749          -0.147468   \n",
       "7349           0.273387          -0.017011          -0.045022   \n",
       "7350           0.289654          -0.018843          -0.158281   \n",
       "7351           0.351503          -0.012423          -0.203867   \n",
       "\n",
       "      tBodyAcc-std()-X  tBodyAcc-std()-Y  tBodyAcc-std()-Z  tBodyAcc-mad()-X   \n",
       "7347         -0.195387          0.039905          0.077078         -0.282301  \\\n",
       "7348         -0.235309          0.004816          0.059280         -0.322552   \n",
       "7349         -0.218218         -0.103822          0.274533         -0.304515   \n",
       "7350         -0.219139         -0.111412          0.268893         -0.310487   \n",
       "7351         -0.269270         -0.087212          0.177404         -0.377404   \n",
       "\n",
       "      tBodyAcc-mad()-Y  tBodyAcc-mad()-Z  tBodyAcc-max()-X  ...   \n",
       "7347          0.043616          0.060410          0.210795  ...  \\\n",
       "7348         -0.029456          0.080585          0.117440  ...   \n",
       "7349         -0.098913          0.332584          0.043999  ...   \n",
       "7350         -0.068200          0.319473          0.101702  ...   \n",
       "7351         -0.038678          0.229430          0.269013  ...   \n",
       "\n",
       "      fBodyBodyGyroJerkMag-kurtosis()  angle(tBodyAccMean,gravity)   \n",
       "7347                        -0.880324                    -0.190437  \\\n",
       "7348                        -0.680744                     0.064907   \n",
       "7349                        -0.304029                     0.052806   \n",
       "7350                        -0.344314                    -0.101360   \n",
       "7351                        -0.740738                    -0.280088   \n",
       "\n",
       "      angle(tBodyAccJerkMean),gravityMean)  angle(tBodyGyroMean,gravityMean)   \n",
       "7347                              0.829718                          0.206972  \\\n",
       "7348                              0.875679                         -0.879033   \n",
       "7349                             -0.266724                          0.864404   \n",
       "7350                              0.700740                          0.936674   \n",
       "7351                             -0.007739                         -0.056088   \n",
       "\n",
       "      angle(tBodyGyroJerkMean,gravityMean)  angle(X,gravityMean)   \n",
       "7347                             -0.425619             -0.791883  \\\n",
       "7348                              0.400219             -0.771840   \n",
       "7349                              0.701169             -0.779133   \n",
       "7350                             -0.589479             -0.785181   \n",
       "7351                             -0.616956             -0.783267   \n",
       "\n",
       "      angle(Y,gravityMean)  angle(Z,gravityMean)  subject          Activity  \n",
       "7347              0.238604              0.049819       30  WALKING_UPSTAIRS  \n",
       "7348              0.252676              0.050053       30  WALKING_UPSTAIRS  \n",
       "7349              0.249145              0.040811       30  WALKING_UPSTAIRS  \n",
       "7350              0.246432              0.025339       30  WALKING_UPSTAIRS  \n",
       "7351              0.246809              0.036695       30  WALKING_UPSTAIRS  \n",
       "\n",
       "[5 rows x 563 columns]"
      ]
     },
     "execution_count": 14,
     "metadata": {},
     "output_type": "execute_result"
    }
   ],
   "source": [
    "df_train.tail()"
   ]
  },
  {
   "cell_type": "markdown",
   "id": "b3fd09cb",
   "metadata": {
    "papermill": {
     "duration": 0.053524,
     "end_time": "2022-03-05T13:40:42.594573",
     "exception": false,
     "start_time": "2022-03-05T13:40:42.541049",
     "status": "completed"
    },
    "tags": []
   },
   "source": [
    "# Now EDA Part Starting"
   ]
  },
  {
   "cell_type": "code",
   "execution_count": 15,
   "id": "3ae32bd4",
   "metadata": {
    "execution": {
     "iopub.execute_input": "2022-03-05T13:40:42.706372Z",
     "iopub.status.busy": "2022-03-05T13:40:42.705678Z",
     "iopub.status.idle": "2022-03-05T13:40:42.710544Z",
     "shell.execute_reply": "2022-03-05T13:40:42.711052Z",
     "shell.execute_reply.started": "2022-03-05T13:32:42.620433Z"
    },
    "papermill": {
     "duration": 0.062836,
     "end_time": "2022-03-05T13:40:42.711283",
     "exception": false,
     "start_time": "2022-03-05T13:40:42.648447",
     "status": "completed"
    },
    "tags": []
   },
   "outputs": [
    {
     "data": {
      "text/plain": [
       "(7352, 563)"
      ]
     },
     "execution_count": 15,
     "metadata": {},
     "output_type": "execute_result"
    }
   ],
   "source": [
    "df_train.shape"
   ]
  },
  {
   "cell_type": "code",
   "execution_count": 16,
   "id": "1f4a8dcc",
   "metadata": {
    "execution": {
     "iopub.execute_input": "2022-03-05T13:40:42.824347Z",
     "iopub.status.busy": "2022-03-05T13:40:42.823617Z",
     "iopub.status.idle": "2022-03-05T13:40:42.846176Z",
     "shell.execute_reply": "2022-03-05T13:40:42.846688Z",
     "shell.execute_reply.started": "2022-03-05T13:32:42.628341Z"
    },
    "papermill": {
     "duration": 0.08119,
     "end_time": "2022-03-05T13:40:42.846877",
     "exception": false,
     "start_time": "2022-03-05T13:40:42.765687",
     "status": "completed"
    },
    "tags": []
   },
   "outputs": [
    {
     "data": {
      "text/plain": [
       "tBodyAcc-mean()-X       0\n",
       "tBodyAcc-mean()-Y       0\n",
       "tBodyAcc-mean()-Z       0\n",
       "tBodyAcc-std()-X        0\n",
       "tBodyAcc-std()-Y        0\n",
       "                       ..\n",
       "angle(X,gravityMean)    0\n",
       "angle(Y,gravityMean)    0\n",
       "angle(Z,gravityMean)    0\n",
       "subject                 0\n",
       "Activity                0\n",
       "Length: 563, dtype: int64"
      ]
     },
     "execution_count": 16,
     "metadata": {},
     "output_type": "execute_result"
    }
   ],
   "source": [
    "df_train.isnull().sum()"
   ]
  },
  {
   "cell_type": "markdown",
   "id": "d4c95973",
   "metadata": {
    "papermill": {
     "duration": 0.05573,
     "end_time": "2022-03-05T13:40:42.958842",
     "exception": false,
     "start_time": "2022-03-05T13:40:42.903112",
     "status": "completed"
    },
    "tags": []
   },
   "source": [
    "# Class Distribution"
   ]
  },
  {
   "cell_type": "code",
   "execution_count": 17,
   "id": "d8fff87e",
   "metadata": {
    "execution": {
     "iopub.execute_input": "2022-03-05T13:40:43.074283Z",
     "iopub.status.busy": "2022-03-05T13:40:43.073528Z",
     "iopub.status.idle": "2022-03-05T13:40:43.084805Z",
     "shell.execute_reply": "2022-03-05T13:40:43.085314Z",
     "shell.execute_reply.started": "2022-03-05T13:32:42.652621Z"
    },
    "papermill": {
     "duration": 0.070376,
     "end_time": "2022-03-05T13:40:43.085539",
     "exception": false,
     "start_time": "2022-03-05T13:40:43.015163",
     "status": "completed"
    },
    "tags": []
   },
   "outputs": [
    {
     "data": {
      "text/plain": [
       "array(['STANDING', 'SITTING', 'LAYING', 'WALKING', 'WALKING_DOWNSTAIRS',\n",
       "       'WALKING_UPSTAIRS'], dtype=object)"
      ]
     },
     "execution_count": 17,
     "metadata": {},
     "output_type": "execute_result"
    }
   ],
   "source": [
    "df_train['Activity'].unique()"
   ]
  },
  {
   "cell_type": "markdown",
   "id": "095d875c",
   "metadata": {
    "papermill": {
     "duration": 0.054864,
     "end_time": "2022-03-05T13:40:43.197550",
     "exception": false,
     "start_time": "2022-03-05T13:40:43.142686",
     "status": "completed"
    },
    "tags": []
   },
   "source": [
    "# Now Visualize the class Distribution"
   ]
  },
  {
   "cell_type": "code",
   "execution_count": 18,
   "id": "45c3b776",
   "metadata": {
    "execution": {
     "iopub.execute_input": "2022-03-05T13:40:43.328410Z",
     "iopub.status.busy": "2022-03-05T13:40:43.327347Z",
     "iopub.status.idle": "2022-03-05T13:40:43.599568Z",
     "shell.execute_reply": "2022-03-05T13:40:43.600440Z",
     "shell.execute_reply.started": "2022-03-05T13:32:42.664528Z"
    },
    "papermill": {
     "duration": 0.348295,
     "end_time": "2022-03-05T13:40:43.600719",
     "exception": false,
     "start_time": "2022-03-05T13:40:43.252424",
     "status": "completed"
    },
    "tags": []
   },
   "outputs": [
    {
     "data": {
      "image/png": "[encoded data removed]",
      "text/plain": [
       "<Figure size 1200x600 with 1 Axes>"
      ]
     },
     "metadata": {},
     "output_type": "display_data"
    }
   ],
   "source": [
    "plt.figure(figsize=(12,6))\n",
    "axis=sns.countplot(x=\"Activity\",data=df_train)\n",
    "plt.xticks(x=df_train['Activity'],rotation='vertical')\n",
    "plt.show()"
   ]
  },
  {
   "cell_type": "markdown",
   "id": "427483be",
   "metadata": {
    "papermill": {
     "duration": 0.076439,
     "end_time": "2022-03-05T13:40:43.753941",
     "exception": false,
     "start_time": "2022-03-05T13:40:43.677502",
     "status": "completed"
    },
    "tags": []
   },
   "source": [
    "# Now Subject Part"
   ]
  },
  {
   "cell_type": "code",
   "execution_count": 19,
   "id": "b11e5ab1",
   "metadata": {
    "execution": {
     "iopub.execute_input": "2022-03-05T13:40:43.882579Z",
     "iopub.status.busy": "2022-03-05T13:40:43.881567Z",
     "iopub.status.idle": "2022-03-05T13:40:43.888608Z",
     "shell.execute_reply": "2022-03-05T13:40:43.889230Z",
     "shell.execute_reply.started": "2022-03-05T13:32:42.888383Z"
    },
    "papermill": {
     "duration": 0.073128,
     "end_time": "2022-03-05T13:40:43.889434",
     "exception": false,
     "start_time": "2022-03-05T13:40:43.816306",
     "status": "completed"
    },
    "tags": []
   },
   "outputs": [
    {
     "data": {
      "text/plain": [
       "array([ 1,  3,  5,  6,  7,  8, 11, 14, 15, 16, 17, 19, 21, 22, 23, 25, 26,\n",
       "       27, 28, 29, 30], dtype=int64)"
      ]
     },
     "execution_count": 19,
     "metadata": {},
     "output_type": "execute_result"
    }
   ],
   "source": [
    "df_train['subject'].unique()"
   ]
  },
  {
   "cell_type": "code",
   "execution_count": 20,
   "id": "6d7af1fa",
   "metadata": {
    "execution": {
     "iopub.execute_input": "2022-03-05T13:40:44.019315Z",
     "iopub.status.busy": "2022-03-05T13:40:44.018453Z",
     "iopub.status.idle": "2022-03-05T13:40:44.053761Z",
     "shell.execute_reply": "2022-03-05T13:40:44.052787Z",
     "shell.execute_reply.started": "2022-03-05T13:32:42.899045Z"
    },
    "papermill": {
     "duration": 0.100687,
     "end_time": "2022-03-05T13:40:44.053971",
     "exception": false,
     "start_time": "2022-03-05T13:40:43.953284",
     "status": "completed"
    },
    "tags": []
   },
   "outputs": [],
   "source": [
    "X=pd.DataFrame(df_train.drop(['Activity','subject'],axis=1))\n",
    "y=df_train.Activity.values.astype(object)"
   ]
  },
  {
   "cell_type": "code",
   "execution_count": 21,
   "id": "7fb862c4",
   "metadata": {
    "execution": {
     "iopub.execute_input": "2022-03-05T13:40:44.182004Z",
     "iopub.status.busy": "2022-03-05T13:40:44.180946Z",
     "iopub.status.idle": "2022-03-05T13:40:44.184656Z",
     "shell.execute_reply": "2022-03-05T13:40:44.185155Z",
     "shell.execute_reply.started": "2022-03-05T13:32:42.917528Z"
    },
    "papermill": {
     "duration": 0.070974,
     "end_time": "2022-03-05T13:40:44.185391",
     "exception": false,
     "start_time": "2022-03-05T13:40:44.114417",
     "status": "completed"
    },
    "tags": []
   },
   "outputs": [
    {
     "data": {
      "text/plain": [
       "((7352, 561), (7352,))"
      ]
     },
     "execution_count": 21,
     "metadata": {},
     "output_type": "execute_result"
    }
   ],
   "source": [
    "X.shape , y.shape"
   ]
  },
  {
   "cell_type": "code",
   "execution_count": 22,
   "id": "a432aa9b",
   "metadata": {
    "execution": {
     "iopub.execute_input": "2022-03-05T13:40:44.308957Z",
     "iopub.status.busy": "2022-03-05T13:40:44.307637Z",
     "iopub.status.idle": "2022-03-05T13:40:44.335312Z",
     "shell.execute_reply": "2022-03-05T13:40:44.334666Z",
     "shell.execute_reply.started": "2022-03-05T13:32:42.927964Z"
    },
    "papermill": {
     "duration": 0.091771,
     "end_time": "2022-03-05T13:40:44.335479",
     "exception": false,
     "start_time": "2022-03-05T13:40:44.243708",
     "status": "completed"
    },
    "tags": []
   },
   "outputs": [
    {
     "data": {
      "text/html": [
       "<div>\n",
       "<style scoped>\n",
       "    .dataframe tbody tr th:only-of-type {\n",
       "        vertical-align: middle;\n",
       "    }\n",
       "\n",
       "    .dataframe tbody tr th {\n",
       "        vertical-align: top;\n",
       "    }\n",
       "\n",
       "    .dataframe thead th {\n",
       "        text-align: right;\n",
       "    }\n",
       "</style>\n",
       "<table border=\"1\" class=\"dataframe\">\n",
       "  <thead>\n",
       "    <tr style=\"text-align: right;\">\n",
       "      <th></th>\n",
       "      <th>tBodyAcc-mean()-X</th>\n",
       "      <th>tBodyAcc-mean()-Y</th>\n",
       "      <th>tBodyAcc-mean()-Z</th>\n",
       "      <th>tBodyAcc-std()-X</th>\n",
       "      <th>tBodyAcc-std()-Y</th>\n",
       "      <th>tBodyAcc-std()-Z</th>\n",
       "      <th>tBodyAcc-mad()-X</th>\n",
       "      <th>tBodyAcc-mad()-Y</th>\n",
       "      <th>tBodyAcc-mad()-Z</th>\n",
       "      <th>tBodyAcc-max()-X</th>\n",
       "      <th>...</th>\n",
       "      <th>fBodyBodyGyroJerkMag-meanFreq()</th>\n",
       "      <th>fBodyBodyGyroJerkMag-skewness()</th>\n",
       "      <th>fBodyBodyGyroJerkMag-kurtosis()</th>\n",
       "      <th>angle(tBodyAccMean,gravity)</th>\n",
       "      <th>angle(tBodyAccJerkMean),gravityMean)</th>\n",
       "      <th>angle(tBodyGyroMean,gravityMean)</th>\n",
       "      <th>angle(tBodyGyroJerkMean,gravityMean)</th>\n",
       "      <th>angle(X,gravityMean)</th>\n",
       "      <th>angle(Y,gravityMean)</th>\n",
       "      <th>angle(Z,gravityMean)</th>\n",
       "    </tr>\n",
       "  </thead>\n",
       "  <tbody>\n",
       "    <tr>\n",
       "      <th>0</th>\n",
       "      <td>0.288585</td>\n",
       "      <td>-0.020294</td>\n",
       "      <td>-0.132905</td>\n",
       "      <td>-0.995279</td>\n",
       "      <td>-0.983111</td>\n",
       "      <td>-0.913526</td>\n",
       "      <td>-0.995112</td>\n",
       "      <td>-0.983185</td>\n",
       "      <td>-0.923527</td>\n",
       "      <td>-0.934724</td>\n",
       "      <td>...</td>\n",
       "      <td>-0.074323</td>\n",
       "      <td>-0.298676</td>\n",
       "      <td>-0.710304</td>\n",
       "      <td>-0.112754</td>\n",
       "      <td>0.030400</td>\n",
       "      <td>-0.464761</td>\n",
       "      <td>-0.018446</td>\n",
       "      <td>-0.841247</td>\n",
       "      <td>0.179941</td>\n",
       "      <td>-0.058627</td>\n",
       "    </tr>\n",
       "    <tr>\n",
       "      <th>1</th>\n",
       "      <td>0.278419</td>\n",
       "      <td>-0.016411</td>\n",
       "      <td>-0.123520</td>\n",
       "      <td>-0.998245</td>\n",
       "      <td>-0.975300</td>\n",
       "      <td>-0.960322</td>\n",
       "      <td>-0.998807</td>\n",
       "      <td>-0.974914</td>\n",
       "      <td>-0.957686</td>\n",
       "      <td>-0.943068</td>\n",
       "      <td>...</td>\n",
       "      <td>0.158075</td>\n",
       "      <td>-0.595051</td>\n",
       "      <td>-0.861499</td>\n",
       "      <td>0.053477</td>\n",
       "      <td>-0.007435</td>\n",
       "      <td>-0.732626</td>\n",
       "      <td>0.703511</td>\n",
       "      <td>-0.844788</td>\n",
       "      <td>0.180289</td>\n",
       "      <td>-0.054317</td>\n",
       "    </tr>\n",
       "    <tr>\n",
       "      <th>2</th>\n",
       "      <td>0.279653</td>\n",
       "      <td>-0.019467</td>\n",
       "      <td>-0.113462</td>\n",
       "      <td>-0.995380</td>\n",
       "      <td>-0.967187</td>\n",
       "      <td>-0.978944</td>\n",
       "      <td>-0.996520</td>\n",
       "      <td>-0.963668</td>\n",
       "      <td>-0.977469</td>\n",
       "      <td>-0.938692</td>\n",
       "      <td>...</td>\n",
       "      <td>0.414503</td>\n",
       "      <td>-0.390748</td>\n",
       "      <td>-0.760104</td>\n",
       "      <td>-0.118559</td>\n",
       "      <td>0.177899</td>\n",
       "      <td>0.100699</td>\n",
       "      <td>0.808529</td>\n",
       "      <td>-0.848933</td>\n",
       "      <td>0.180637</td>\n",
       "      <td>-0.049118</td>\n",
       "    </tr>\n",
       "    <tr>\n",
       "      <th>3</th>\n",
       "      <td>0.279174</td>\n",
       "      <td>-0.026201</td>\n",
       "      <td>-0.123283</td>\n",
       "      <td>-0.996091</td>\n",
       "      <td>-0.983403</td>\n",
       "      <td>-0.990675</td>\n",
       "      <td>-0.997099</td>\n",
       "      <td>-0.982750</td>\n",
       "      <td>-0.989302</td>\n",
       "      <td>-0.938692</td>\n",
       "      <td>...</td>\n",
       "      <td>0.404573</td>\n",
       "      <td>-0.117290</td>\n",
       "      <td>-0.482845</td>\n",
       "      <td>-0.036788</td>\n",
       "      <td>-0.012892</td>\n",
       "      <td>0.640011</td>\n",
       "      <td>-0.485366</td>\n",
       "      <td>-0.848649</td>\n",
       "      <td>0.181935</td>\n",
       "      <td>-0.047663</td>\n",
       "    </tr>\n",
       "    <tr>\n",
       "      <th>4</th>\n",
       "      <td>0.276629</td>\n",
       "      <td>-0.016570</td>\n",
       "      <td>-0.115362</td>\n",
       "      <td>-0.998139</td>\n",
       "      <td>-0.980817</td>\n",
       "      <td>-0.990482</td>\n",
       "      <td>-0.998321</td>\n",
       "      <td>-0.979672</td>\n",
       "      <td>-0.990441</td>\n",
       "      <td>-0.942469</td>\n",
       "      <td>...</td>\n",
       "      <td>0.087753</td>\n",
       "      <td>-0.351471</td>\n",
       "      <td>-0.699205</td>\n",
       "      <td>0.123320</td>\n",
       "      <td>0.122542</td>\n",
       "      <td>0.693578</td>\n",
       "      <td>-0.615971</td>\n",
       "      <td>-0.847865</td>\n",
       "      <td>0.185151</td>\n",
       "      <td>-0.043892</td>\n",
       "    </tr>\n",
       "  </tbody>\n",
       "</table>\n",
       "<p>5 rows × 561 columns</p>\n",
       "</div>"
      ],
      "text/plain": [
       "   tBodyAcc-mean()-X  tBodyAcc-mean()-Y  tBodyAcc-mean()-Z  tBodyAcc-std()-X   \n",
       "0           0.288585          -0.020294          -0.132905         -0.995279  \\\n",
       "1           0.278419          -0.016411          -0.123520         -0.998245   \n",
       "2           0.279653          -0.019467          -0.113462         -0.995380   \n",
       "3           0.279174          -0.026201          -0.123283         -0.996091   \n",
       "4           0.276629          -0.016570          -0.115362         -0.998139   \n",
       "\n",
       "   tBodyAcc-std()-Y  tBodyAcc-std()-Z  tBodyAcc-mad()-X  tBodyAcc-mad()-Y   \n",
       "0         -0.983111         -0.913526         -0.995112         -0.983185  \\\n",
       "1         -0.975300         -0.960322         -0.998807         -0.974914   \n",
       "2         -0.967187         -0.978944         -0.996520         -0.963668   \n",
       "3         -0.983403         -0.990675         -0.997099         -0.982750   \n",
       "4         -0.980817         -0.990482         -0.998321         -0.979672   \n",
       "\n",
       "   tBodyAcc-mad()-Z  tBodyAcc-max()-X  ...  fBodyBodyGyroJerkMag-meanFreq()   \n",
       "0         -0.923527         -0.934724  ...                        -0.074323  \\\n",
       "1         -0.957686         -0.943068  ...                         0.158075   \n",
       "2         -0.977469         -0.938692  ...                         0.414503   \n",
       "3         -0.989302         -0.938692  ...                         0.404573   \n",
       "4         -0.990441         -0.942469  ...                         0.087753   \n",
       "\n",
       "   fBodyBodyGyroJerkMag-skewness()  fBodyBodyGyroJerkMag-kurtosis()   \n",
       "0                        -0.298676                        -0.710304  \\\n",
       "1                        -0.595051                        -0.861499   \n",
       "2                        -0.390748                        -0.760104   \n",
       "3                        -0.117290                        -0.482845   \n",
       "4                        -0.351471                        -0.699205   \n",
       "\n",
       "   angle(tBodyAccMean,gravity)  angle(tBodyAccJerkMean),gravityMean)   \n",
       "0                    -0.112754                              0.030400  \\\n",
       "1                     0.053477                             -0.007435   \n",
       "2                    -0.118559                              0.177899   \n",
       "3                    -0.036788                             -0.012892   \n",
       "4                     0.123320                              0.122542   \n",
       "\n",
       "   angle(tBodyGyroMean,gravityMean)  angle(tBodyGyroJerkMean,gravityMean)   \n",
       "0                         -0.464761                             -0.018446  \\\n",
       "1                         -0.732626                              0.703511   \n",
       "2                          0.100699                              0.808529   \n",
       "3                          0.640011                             -0.485366   \n",
       "4                          0.693578                             -0.615971   \n",
       "\n",
       "   angle(X,gravityMean)  angle(Y,gravityMean)  angle(Z,gravityMean)  \n",
       "0             -0.841247              0.179941             -0.058627  \n",
       "1             -0.844788              0.180289             -0.054317  \n",
       "2             -0.848933              0.180637             -0.049118  \n",
       "3             -0.848649              0.181935             -0.047663  \n",
       "4             -0.847865              0.185151             -0.043892  \n",
       "\n",
       "[5 rows x 561 columns]"
      ]
     },
     "execution_count": 22,
     "metadata": {},
     "output_type": "execute_result"
    }
   ],
   "source": [
    "X.head()"
   ]
  },
  {
   "cell_type": "code",
   "execution_count": 23,
   "id": "a9ce7394",
   "metadata": {
    "execution": {
     "iopub.execute_input": "2022-03-05T13:40:44.462625Z",
     "iopub.status.busy": "2022-03-05T13:40:44.460650Z",
     "iopub.status.idle": "2022-03-05T13:40:44.467357Z",
     "shell.execute_reply": "2022-03-05T13:40:44.467933Z",
     "shell.execute_reply.started": "2022-03-05T13:32:42.954202Z"
    },
    "papermill": {
     "duration": 0.07162,
     "end_time": "2022-03-05T13:40:44.468241",
     "exception": false,
     "start_time": "2022-03-05T13:40:44.396621",
     "status": "completed"
    },
    "tags": []
   },
   "outputs": [
    {
     "data": {
      "text/plain": [
       "'STANDING'"
      ]
     },
     "execution_count": 23,
     "metadata": {},
     "output_type": "execute_result"
    }
   ],
   "source": [
    "y[5]"
   ]
  },
  {
   "cell_type": "code",
   "execution_count": 24,
   "id": "a1261287",
   "metadata": {
    "execution": {
     "iopub.execute_input": "2022-03-05T13:40:44.589895Z",
     "iopub.status.busy": "2022-03-05T13:40:44.589200Z",
     "iopub.status.idle": "2022-03-05T13:40:44.632090Z",
     "shell.execute_reply": "2022-03-05T13:40:44.632875Z",
     "shell.execute_reply.started": "2022-03-05T13:32:42.962250Z"
    },
    "papermill": {
     "duration": 0.105803,
     "end_time": "2022-03-05T13:40:44.633139",
     "exception": false,
     "start_time": "2022-03-05T13:40:44.527336",
     "status": "completed"
    },
    "tags": []
   },
   "outputs": [
    {
     "name": "stdout",
     "output_type": "stream",
     "text": [
      "<class 'pandas.core.frame.DataFrame'>\n",
      "RangeIndex: 7352 entries, 0 to 7351\n",
      "Columns: 561 entries, tBodyAcc-mean()-X to angle(Z,gravityMean)\n",
      "dtypes: float64(561)\n",
      "memory usage: 31.5 MB\n"
     ]
    }
   ],
   "source": [
    "X.info()"
   ]
  },
  {
   "cell_type": "code",
   "execution_count": 25,
   "id": "1a8ecbc2",
   "metadata": {
    "execution": {
     "iopub.execute_input": "2022-03-05T13:40:44.766111Z",
     "iopub.status.busy": "2022-03-05T13:40:44.765258Z",
     "iopub.status.idle": "2022-03-05T13:40:44.770583Z",
     "shell.execute_reply": "2022-03-05T13:40:44.771212Z",
     "shell.execute_reply.started": "2022-03-05T13:32:43.001363Z"
    },
    "papermill": {
     "duration": 0.073521,
     "end_time": "2022-03-05T13:40:44.771437",
     "exception": false,
     "start_time": "2022-03-05T13:40:44.697916",
     "status": "completed"
    },
    "tags": []
   },
   "outputs": [
    {
     "name": "stdout",
     "output_type": "stream",
     "text": [
      "Number of numeric features: 561\n"
     ]
    }
   ],
   "source": [
    "#Total Number of Continous and Categorical features in the training set\n",
    "num_cols = X._get_numeric_data().columns\n",
    "print(\"Number of numeric features:\",num_cols.size)"
   ]
  },
  {
   "cell_type": "markdown",
   "id": "faef3740",
   "metadata": {
    "papermill": {
     "duration": 0.059981,
     "end_time": "2022-03-05T13:40:44.891885",
     "exception": false,
     "start_time": "2022-03-05T13:40:44.831904",
     "status": "completed"
    },
    "tags": []
   },
   "source": [
    "# Transforming Non numerical Labels into numerical labels"
   ]
  },
  {
   "cell_type": "code",
   "execution_count": 26,
   "id": "c523bb48",
   "metadata": {},
   "outputs": [
    {
     "name": "stdout",
     "output_type": "stream",
     "text": [
      "Note: you may need to restart the kernel to use updated packages.Requirement already satisfied: scikit-learn in c:\\users\\aakash chezhian\\appdata\\local\\programs\\python\\python39\\lib\\site-packages (1.3.2)\n",
      "Requirement already satisfied: numpy<2.0,>=1.17.3 in c:\\users\\aakash chezhian\\appdata\\local\\programs\\python\\python39\\lib\\site-packages (from scikit-learn) (1.24.2)\n",
      "Requirement already satisfied: scipy>=1.5.0 in c:\\users\\aakash chezhian\\appdata\\local\\programs\\python\\python39\\lib\\site-packages (from scikit-learn) (1.11.4)\n",
      "Requirement already satisfied: joblib>=1.1.1 in c:\\users\\aakash chezhian\\appdata\\local\\programs\\python\\python39\\lib\\site-packages (from scikit-learn) (1.3.2)\n",
      "Requirement already satisfied: threadpoolctl>=2.0.0 in c:\\users\\aakash chezhian\\appdata\\local\\programs\\python\\python39\\lib\\site-packages (from scikit-learn) (3.2.0)\n",
      "\n"
     ]
    },
    {
     "name": "stderr",
     "output_type": "stream",
     "text": [
      "\n",
      "[notice] A new release of pip is available: 23.1.1 -> 23.3.2\n",
      "[notice] To update, run: python.exe -m pip install --upgrade pip\n"
     ]
    }
   ],
   "source": [
    "pip install scikit-learn"
   ]
  },
  {
   "cell_type": "code",
   "execution_count": 27,
   "id": "08dc4575",
   "metadata": {
    "execution": {
     "iopub.execute_input": "2022-03-05T13:40:45.025377Z",
     "iopub.status.busy": "2022-03-05T13:40:45.024454Z",
     "iopub.status.idle": "2022-03-05T13:40:45.176062Z",
     "shell.execute_reply": "2022-03-05T13:40:45.176658Z",
     "shell.execute_reply.started": "2022-03-05T13:32:43.008711Z"
    },
    "papermill": {
     "duration": 0.217953,
     "end_time": "2022-03-05T13:40:45.176870",
     "exception": false,
     "start_time": "2022-03-05T13:40:44.958917",
     "status": "completed"
    },
    "tags": []
   },
   "outputs": [],
   "source": [
    "from sklearn import preprocessing"
   ]
  },
  {
   "cell_type": "code",
   "execution_count": 28,
   "id": "9b77845b",
   "metadata": {
    "execution": {
     "iopub.execute_input": "2022-03-05T13:40:45.301178Z",
     "iopub.status.busy": "2022-03-05T13:40:45.300455Z",
     "iopub.status.idle": "2022-03-05T13:40:45.304326Z",
     "shell.execute_reply": "2022-03-05T13:40:45.304916Z",
     "shell.execute_reply.started": "2022-03-05T13:32:43.124434Z"
    },
    "papermill": {
     "duration": 0.068116,
     "end_time": "2022-03-05T13:40:45.305128",
     "exception": false,
     "start_time": "2022-03-05T13:40:45.237012",
     "status": "completed"
    },
    "tags": []
   },
   "outputs": [],
   "source": [
    "encoder=preprocessing.LabelEncoder()"
   ]
  },
  {
   "cell_type": "code",
   "execution_count": 29,
   "id": "e950d034",
   "metadata": {
    "execution": {
     "iopub.execute_input": "2022-03-05T13:40:45.428297Z",
     "iopub.status.busy": "2022-03-05T13:40:45.427454Z",
     "iopub.status.idle": "2022-03-05T13:40:45.435733Z",
     "shell.execute_reply": "2022-03-05T13:40:45.436309Z",
     "shell.execute_reply.started": "2022-03-05T13:32:43.130473Z"
    },
    "papermill": {
     "duration": 0.07235,
     "end_time": "2022-03-05T13:40:45.436508",
     "exception": false,
     "start_time": "2022-03-05T13:40:45.364158",
     "status": "completed"
    },
    "tags": []
   },
   "outputs": [
    {
     "data": {
      "text/plain": [
       "(7352,)"
      ]
     },
     "execution_count": 29,
     "metadata": {},
     "output_type": "execute_result"
    }
   ],
   "source": [
    "encoder.fit(y)\n",
    "y=encoder.transform(y)\n",
    "y.shape"
   ]
  },
  {
   "cell_type": "code",
   "execution_count": 30,
   "id": "2d1826e3",
   "metadata": {
    "execution": {
     "iopub.execute_input": "2022-03-05T13:40:45.561052Z",
     "iopub.status.busy": "2022-03-05T13:40:45.560279Z",
     "iopub.status.idle": "2022-03-05T13:40:45.565035Z",
     "shell.execute_reply": "2022-03-05T13:40:45.565613Z",
     "shell.execute_reply.started": "2022-03-05T13:32:43.143905Z"
    },
    "papermill": {
     "duration": 0.0691,
     "end_time": "2022-03-05T13:40:45.565811",
     "exception": false,
     "start_time": "2022-03-05T13:40:45.496711",
     "status": "completed"
    },
    "tags": []
   },
   "outputs": [
    {
     "data": {
      "text/plain": [
       "2"
      ]
     },
     "execution_count": 30,
     "metadata": {},
     "output_type": "execute_result"
    }
   ],
   "source": [
    "y[5]"
   ]
  },
  {
   "cell_type": "code",
   "execution_count": 31,
   "id": "75ac2ca9",
   "metadata": {
    "execution": {
     "iopub.execute_input": "2022-03-05T13:40:45.691510Z",
     "iopub.status.busy": "2022-03-05T13:40:45.690787Z",
     "iopub.status.idle": "2022-03-05T13:40:45.695768Z",
     "shell.execute_reply": "2022-03-05T13:40:45.696373Z",
     "shell.execute_reply.started": "2022-03-05T13:32:43.155571Z"
    },
    "papermill": {
     "duration": 0.069243,
     "end_time": "2022-03-05T13:40:45.696566",
     "exception": false,
     "start_time": "2022-03-05T13:40:45.627323",
     "status": "completed"
    },
    "tags": []
   },
   "outputs": [
    {
     "data": {
      "text/plain": [
       "array(['LAYING', 'SITTING', 'STANDING', 'WALKING', 'WALKING_DOWNSTAIRS',\n",
       "       'WALKING_UPSTAIRS'], dtype=object)"
      ]
     },
     "execution_count": 31,
     "metadata": {},
     "output_type": "execute_result"
    }
   ],
   "source": [
    "encoder.classes_"
   ]
  },
  {
   "cell_type": "code",
   "execution_count": 32,
   "id": "d1ec6e4d",
   "metadata": {
    "execution": {
     "iopub.execute_input": "2022-03-05T13:40:45.821665Z",
     "iopub.status.busy": "2022-03-05T13:40:45.820973Z",
     "iopub.status.idle": "2022-03-05T13:40:45.826520Z",
     "shell.execute_reply": "2022-03-05T13:40:45.827095Z",
     "shell.execute_reply.started": "2022-03-05T13:32:43.165579Z"
    },
    "papermill": {
     "duration": 0.070004,
     "end_time": "2022-03-05T13:40:45.827319",
     "exception": false,
     "start_time": "2022-03-05T13:40:45.757315",
     "status": "completed"
    },
    "tags": []
   },
   "outputs": [
    {
     "data": {
      "text/plain": [
       "'WALKING_UPSTAIRS'"
      ]
     },
     "execution_count": 32,
     "metadata": {},
     "output_type": "execute_result"
    }
   ],
   "source": [
    "encoder.classes_[5]"
   ]
  },
  {
   "cell_type": "markdown",
   "id": "674a3d22",
   "metadata": {
    "papermill": {
     "duration": 0.063697,
     "end_time": "2022-03-05T13:40:45.956830",
     "exception": false,
     "start_time": "2022-03-05T13:40:45.893133",
     "status": "completed"
    },
    "tags": []
   },
   "source": [
    "# Feature Scaling"
   ]
  },
  {
   "cell_type": "code",
   "execution_count": 33,
   "id": "8c6d6ead",
   "metadata": {
    "execution": {
     "iopub.execute_input": "2022-03-05T13:40:46.085322Z",
     "iopub.status.busy": "2022-03-05T13:40:46.084442Z",
     "iopub.status.idle": "2022-03-05T13:40:46.087978Z",
     "shell.execute_reply": "2022-03-05T13:40:46.088571Z",
     "shell.execute_reply.started": "2022-03-05T13:32:43.173739Z"
    },
    "papermill": {
     "duration": 0.069915,
     "end_time": "2022-03-05T13:40:46.088824",
     "exception": false,
     "start_time": "2022-03-05T13:40:46.018909",
     "status": "completed"
    },
    "tags": []
   },
   "outputs": [],
   "source": [
    "from sklearn.preprocessing import StandardScaler"
   ]
  },
  {
   "cell_type": "code",
   "execution_count": 34,
   "id": "0eaed2f8",
   "metadata": {
    "execution": {
     "iopub.execute_input": "2022-03-05T13:40:46.217133Z",
     "iopub.status.busy": "2022-03-05T13:40:46.216351Z",
     "iopub.status.idle": "2022-03-05T13:40:46.220156Z",
     "shell.execute_reply": "2022-03-05T13:40:46.220787Z",
     "shell.execute_reply.started": "2022-03-05T13:32:43.181343Z"
    },
    "papermill": {
     "duration": 0.07022,
     "end_time": "2022-03-05T13:40:46.220995",
     "exception": false,
     "start_time": "2022-03-05T13:40:46.150775",
     "status": "completed"
    },
    "tags": []
   },
   "outputs": [],
   "source": [
    "scaler=StandardScaler()"
   ]
  },
  {
   "cell_type": "code",
   "execution_count": 35,
   "id": "5ce30890",
   "metadata": {
    "execution": {
     "iopub.execute_input": "2022-03-05T13:40:46.349460Z",
     "iopub.status.busy": "2022-03-05T13:40:46.348714Z",
     "iopub.status.idle": "2022-03-05T13:40:46.442280Z",
     "shell.execute_reply": "2022-03-05T13:40:46.441505Z",
     "shell.execute_reply.started": "2022-03-05T13:32:43.190205Z"
    },
    "papermill": {
     "duration": 0.159025,
     "end_time": "2022-03-05T13:40:46.442456",
     "exception": false,
     "start_time": "2022-03-05T13:40:46.283431",
     "status": "completed"
    },
    "tags": []
   },
   "outputs": [],
   "source": [
    "X=scaler.fit_transform(X)"
   ]
  },
  {
   "cell_type": "code",
   "execution_count": 36,
   "id": "c53ea373",
   "metadata": {
    "execution": {
     "iopub.execute_input": "2022-03-05T13:40:46.572661Z",
     "iopub.status.busy": "2022-03-05T13:40:46.571903Z",
     "iopub.status.idle": "2022-03-05T13:40:46.583575Z",
     "shell.execute_reply": "2022-03-05T13:40:46.584237Z",
     "shell.execute_reply.started": "2022-03-05T13:32:43.266617Z"
    },
    "papermill": {
     "duration": 0.079863,
     "end_time": "2022-03-05T13:40:46.584446",
     "exception": false,
     "start_time": "2022-03-05T13:40:46.504583",
     "status": "completed"
    },
    "tags": []
   },
   "outputs": [
    {
     "data": {
      "text/plain": [
       "array([ 0.03858209,  0.18617977,  0.07069885, -0.87339677, -0.95411711,\n",
       "       -0.93313903, -0.86574842, -0.95349268, -0.94036321, -0.87026043,\n",
       "       -0.91998157, -0.90402636,  0.89541301,  0.89700694,  0.84469288,\n",
       "       -0.94612447, -0.69318798, -0.77564852, -0.69439636, -0.84298608,\n",
       "       -0.93680911, -0.94257428, -1.38374823, -0.72462795, -1.04200642,\n",
       "        1.65309439, -1.15596785,  0.8067426 ,  0.24705658,  1.11195951,\n",
       "       -1.25380495,  1.25355661, -1.80151132,  1.91931057, -1.16349834,\n",
       "        0.54422583,  0.68557071, -0.23365888,  0.12908098,  0.19571523,\n",
       "        0.58798114, -0.42775638, -0.00578131, -0.44178683, -0.36158497,\n",
       "       -0.56325767, -0.43948269, -0.35273651, -0.55726241,  0.56764117,\n",
       "       -0.45408023, -0.0454745 ,  0.60795131, -0.39241834,  0.03841345,\n",
       "       -0.82551143,  0.68035779, -0.54218921, -0.5518713 , -0.43341776,\n",
       "       -0.32788833, -0.53895791, -0.91072978, -0.46503661, -0.79529628,\n",
       "        0.99972428, -0.83832088,  0.6428776 , -0.42587111,  0.50293631,\n",
       "       -0.68121693,  0.86643903, -1.04445444,  1.01241514, -1.07934803,\n",
       "        1.13677056, -1.18090962, -1.07776658,  0.80792287,  0.50336548,\n",
       "       -0.00659698,  0.06187453,  0.08779035, -0.85293556, -0.87183732,\n",
       "       -0.80663032, -0.85071467, -0.87053929, -0.80705117, -0.80180547,\n",
       "       -0.82782276, -0.76155672,  0.85602383,  0.85274765,  0.78532751,\n",
       "       -0.8657859 , -0.68182283, -0.71638634, -0.56721785, -0.8407362 ,\n",
       "       -0.85962939, -0.8003505 , -1.03989827, -1.02841058, -1.07001626,\n",
       "        1.28316527, -0.32010647,  0.8144825 ,  0.41810267,  1.54587459,\n",
       "       -0.64863815,  1.61508648,  0.14765713,  1.45548729, -0.20433786,\n",
       "        0.66980772,  0.67056285, -0.89815503,  0.11543744, -0.73497681,\n",
       "       -0.00873867,  0.04359693, -0.05438677, -0.86172339, -0.8516771 ,\n",
       "       -0.87091309, -0.85613823, -0.85052955, -0.85747924, -0.80334496,\n",
       "       -0.7943924 , -0.85559137,  0.80565675,  0.82252911,  0.83478908,\n",
       "       -0.93797416, -0.67701878, -0.6017537 , -0.64900968, -0.83313053,\n",
       "       -0.83663792, -0.8172175 , -0.4748768 , -0.69618794, -0.83888266,\n",
       "       -0.64345794,  0.43320649, -0.35223816,  0.4745785 ,  0.39329933,\n",
       "       -0.07155059, -1.5328824 ,  2.0823822 ,  0.58021375, -1.00879081,\n",
       "        0.52817599,  0.75706658, -0.70567189,  1.63885035, -1.46565529,\n",
       "        0.02852543, -0.00773563,  0.09516023, -0.83940934, -0.7507133 ,\n",
       "       -0.82461153, -0.84001304, -0.75486052, -0.82540311, -0.78307691,\n",
       "       -0.72118982, -0.81607255,  0.82096362,  0.72160203,  0.77863618,\n",
       "       -0.83022662, -0.60685073, -0.44022371, -0.58638151, -0.83027459,\n",
       "       -0.75620103, -0.81673355, -1.04658533, -1.22773118, -0.87299056,\n",
       "       -0.75717158,  0.11475409, -0.96867565,  0.30442116,  0.17462086,\n",
       "        0.44384859, -1.44780936, -0.36293216,  0.65778909, -1.47212971,\n",
       "       -0.06874529, -0.21248005, -0.0857198 ,  0.52057599, -0.74644551,\n",
       "       -0.94303062, -0.92895812, -0.92814873, -0.93550882, -0.81201791,\n",
       "       -0.94303062, -0.78440741, -0.91392576, -1.34416239,  1.50121546,\n",
       "       -1.75460233,  1.97456312, -1.59510151, -0.94303062, -0.92895812,\n",
       "       -0.92814873, -0.93550882, -0.81201791, -0.94303062, -0.78440741,\n",
       "       -0.91392576, -1.34416239,  1.50121546, -1.75460233,  1.97456312,\n",
       "       -1.59510151, -0.86591875, -0.86615224, -0.86202925, -0.86320233,\n",
       "       -0.79040845, -0.86591875, -0.70609753, -0.8484796 , -1.09620179,\n",
       "       -0.02739085,  0.19264966,  0.06672896, -0.45633653, -0.93931504,\n",
       "       -0.91236189, -0.92103014, -0.89757172, -0.82417152, -0.93931504,\n",
       "       -0.73875944, -0.9206072 , -0.93538181, -0.4685037 ,  0.21547086,\n",
       "       -0.06257806,  0.5230638 , -0.82438141, -0.77886611, -0.7905817 ,\n",
       "       -0.7554589 , -0.75283679, -0.82438141, -0.54176217, -0.79929108,\n",
       "       -1.2243682 , -0.41571108,  0.19405328,  0.43486875, -0.21363435,\n",
       "       -0.87361336, -0.92606736, -0.89796477, -0.86823798, -0.96135455,\n",
       "       -0.93616369, -0.87306352, -0.93590218, -0.91739418, -0.84270858,\n",
       "       -0.9457845 , -0.91632224, -0.60942969, -0.63792816, -0.55280809,\n",
       "       -0.91844254, -0.69137881, -0.80331538, -0.69563996, -0.84485351,\n",
       "       -0.8529563 , -0.81324028, -1.08857327, -1.12255633, -1.28043271,\n",
       "        0.59161341, -0.82671111, -0.6433171 ,  1.45332416,  1.27313538,\n",
       "        1.93768881, -1.24484082, -1.07005451, -1.10734557, -0.82637157,\n",
       "       -1.58783962, -1.17419832, -0.67008248, -0.62373242, -0.61877087,\n",
       "       -0.57309759, -0.59414114, -0.57075377, -0.51970348, -0.3767466 ,\n",
       "       -0.68124445, -0.63228228, -0.6054559 , -0.4824239 , -0.69013882,\n",
       "       -0.60851286, -0.78348105, -0.63871412, -0.63921734, -0.59689738,\n",
       "       -0.58911004, -0.61742266, -0.57813381, -0.37770367, -0.79644823,\n",
       "       -0.65492022, -0.62552414, -0.53502517, -0.80273658, -0.62947693,\n",
       "       -0.6505475 , -0.56630135, -0.49833727, -0.45325137, -0.45114959,\n",
       "       -0.51089125, -0.51335762, -0.35867122, -0.67930758, -0.50857814,\n",
       "       -0.48840379, -0.49327823, -0.69286404, -0.47806075, -0.85160193,\n",
       "       -0.8741571 , -0.80879416, -0.84948591, -0.86429763, -0.79885154,\n",
       "       -0.85104362, -0.86888276, -0.80339088, -0.82786383, -0.84147351,\n",
       "       -0.77481503, -0.59766233, -0.64317137, -0.55249389, -0.86683614,\n",
       "       -0.68175253, -0.71630629, -0.56710544, -0.83311874, -0.86136424,\n",
       "       -0.7910784 , -0.95957578, -0.98538569, -0.97675109,  0.31256671,\n",
       "        0.14489627,  2.85656799,  1.27501765,  0.96396559,  1.61039732,\n",
       "       -1.07232063, -0.90212738, -1.41102258, -0.95317842, -1.16391068,\n",
       "       -0.83437074, -0.62019921, -0.63980084, -0.61079687, -0.56360916,\n",
       "       -0.58883593, -0.57856989, -0.53319805, -0.27468198, -0.66441411,\n",
       "       -0.62382621, -0.60861374, -0.53300177, -0.68596449, -0.60903869,\n",
       "       -0.72493876, -0.63218542, -0.64096513, -0.58717065, -0.57588435,\n",
       "       -0.61180125, -0.58618018, -0.30726955, -0.68533301, -0.65571787,\n",
       "       -0.61945106, -0.58583077, -0.71182932, -0.62609032, -0.58522278,\n",
       "       -0.55660665, -0.5012353 , -0.44500879, -0.42849856, -0.49502124,\n",
       "       -0.50134733, -0.28759607, -0.59840407, -0.5032098 , -0.47088185,\n",
       "       -0.50231085, -0.5832781 , -0.46930338, -0.87268586, -0.83749392,\n",
       "       -0.86834211, -0.84875995, -0.84367039, -0.86148576, -0.86837979,\n",
       "       -0.84451371, -0.87907327, -0.8017865 , -0.78466286, -0.80278087,\n",
       "       -0.60175929, -0.61023029, -0.51783414, -0.8894121 , -0.63699819,\n",
       "       -0.59254343, -0.63915269, -0.81672212, -0.769332  , -0.82181754,\n",
       "       -0.92768858, -1.2108155 , -0.96816724, -0.29669814, -0.44133309,\n",
       "       -0.52465932, -1.010006  ,  0.15910427,  0.91472463,  0.52725186,\n",
       "        0.49361917, -0.33822129, -0.47007895, -0.05543801, -0.20988333,\n",
       "       -0.58778455, -0.57879192, -0.56759523, -0.46379   , -0.45689352,\n",
       "       -0.4970251 , -0.42774708, -0.3308747 , -0.62550337, -0.56926798,\n",
       "       -0.48742405, -0.39719506, -0.63482651, -0.48480415, -0.5549288 ,\n",
       "       -0.40467591, -0.34531189, -0.36368007, -0.36091507, -0.42536481,\n",
       "       -0.41512391, -0.31489615, -0.5848955 , -0.36841688, -0.38933068,\n",
       "       -0.40946849, -0.59209979, -0.37923538, -0.57018496, -0.49235973,\n",
       "       -0.49089766, -0.43119021, -0.43122983, -0.4803377 , -0.45965105,\n",
       "       -0.32775388, -0.61373485, -0.50121382, -0.45809769, -0.41733091,\n",
       "       -0.63456662, -0.45128154, -0.90422576, -0.93431135, -0.9160013 ,\n",
       "       -0.91345907, -0.61084064, -0.90422576, -0.71260554, -0.84828242,\n",
       "       -1.17491715, -0.9260512 ,  1.36521371, -0.75279007, -0.55762989,\n",
       "       -0.86394168, -0.86048229, -0.86600196, -0.82864261, -0.6558831 ,\n",
       "       -0.86394168, -0.68418678, -0.85831003, -0.97355102, -0.6468202 ,\n",
       "        0.27080769, -0.57977724, -0.54179277, -0.88742638, -0.9075567 ,\n",
       "       -0.90464462, -0.89245293, -0.63179052, -0.88742638, -0.65172322,\n",
       "       -0.85404691, -1.11270536, -0.70132181, -0.88737692, -0.28290088,\n",
       "       -0.49554891, -0.78257557, -0.76426196, -0.77039865, -0.74870752,\n",
       "       -0.65479994, -0.78257557, -0.46288065, -0.77561191, -1.13397774,\n",
       "       -0.70666073, -0.41972083, -0.74270705, -0.71310688,  0.21958572,\n",
       "       -0.32485605,  0.43782955, -0.7579218 , -0.70360311,  0.4243581 ,\n",
       "        0.05155196])"
      ]
     },
     "execution_count": 36,
     "metadata": {},
     "output_type": "execute_result"
    }
   ],
   "source": [
    "X[5]"
   ]
  },
  {
   "cell_type": "markdown",
   "id": "4da9a1b6",
   "metadata": {
    "papermill": {
     "duration": 0.061575,
     "end_time": "2022-03-05T13:40:46.711664",
     "exception": false,
     "start_time": "2022-03-05T13:40:46.650089",
     "status": "completed"
    },
    "tags": []
   },
   "source": [
    "# Now Split X and y \n",
    "# Training and Validation sets"
   ]
  },
  {
   "cell_type": "code",
   "execution_count": 37,
   "id": "f6c9c156",
   "metadata": {
    "execution": {
     "iopub.execute_input": "2022-03-05T13:40:46.840983Z",
     "iopub.status.busy": "2022-03-05T13:40:46.839949Z",
     "iopub.status.idle": "2022-03-05T13:40:46.892827Z",
     "shell.execute_reply": "2022-03-05T13:40:46.893423Z",
     "shell.execute_reply.started": "2022-03-05T13:32:43.282840Z"
    },
    "papermill": {
     "duration": 0.120509,
     "end_time": "2022-03-05T13:40:46.893629",
     "exception": false,
     "start_time": "2022-03-05T13:40:46.773120",
     "status": "completed"
    },
    "tags": []
   },
   "outputs": [],
   "source": [
    "from sklearn.model_selection import train_test_split"
   ]
  },
  {
   "cell_type": "code",
   "execution_count": 38,
   "id": "56aa5851",
   "metadata": {
    "execution": {
     "iopub.execute_input": "2022-03-05T13:40:47.024902Z",
     "iopub.status.busy": "2022-03-05T13:40:47.024041Z",
     "iopub.status.idle": "2022-03-05T13:40:47.086549Z",
     "shell.execute_reply": "2022-03-05T13:40:47.087247Z",
     "shell.execute_reply.started": "2022-03-05T13:37:53.320747Z"
    },
    "papermill": {
     "duration": 0.128757,
     "end_time": "2022-03-05T13:40:47.087490",
     "exception": false,
     "start_time": "2022-03-05T13:40:46.958733",
     "status": "completed"
    },
    "tags": []
   },
   "outputs": [],
   "source": [
    "X_train,X_test,y_train,y_test=train_test_split(X,y,test_size=0.20,random_state=100)"
   ]
  },
  {
   "cell_type": "code",
   "execution_count": 39,
   "id": "5a70979c",
   "metadata": {
    "execution": {
     "iopub.execute_input": "2022-03-05T13:40:47.217871Z",
     "iopub.status.busy": "2022-03-05T13:40:47.217096Z",
     "iopub.status.idle": "2022-03-05T13:40:47.222933Z",
     "shell.execute_reply": "2022-03-05T13:40:47.223730Z",
     "shell.execute_reply.started": "2022-03-05T13:37:53.682789Z"
    },
    "papermill": {
     "duration": 0.073227,
     "end_time": "2022-03-05T13:40:47.224016",
     "exception": false,
     "start_time": "2022-03-05T13:40:47.150789",
     "status": "completed"
    },
    "tags": []
   },
   "outputs": [
    {
     "data": {
      "text/plain": [
       "((5881, 561), (1471, 561), (5881,), (1471,))"
      ]
     },
     "execution_count": 39,
     "metadata": {},
     "output_type": "execute_result"
    }
   ],
   "source": [
    "X_train.shape, X_test.shape, y_train.shape, y_test.shape"
   ]
  },
  {
   "cell_type": "markdown",
   "id": "23f33f39",
   "metadata": {
    "papermill": {
     "duration": 0.062381,
     "end_time": "2022-03-05T13:40:47.349781",
     "exception": false,
     "start_time": "2022-03-05T13:40:47.287400",
     "status": "completed"
    },
    "tags": []
   },
   "source": [
    "# Now Train The Model"
   ]
  },
  {
   "cell_type": "markdown",
   "id": "1bc1bbea",
   "metadata": {
    "papermill": {
     "duration": 0.062035,
     "end_time": "2022-03-05T13:40:47.474114",
     "exception": false,
     "start_time": "2022-03-05T13:40:47.412079",
     "status": "completed"
    },
    "tags": []
   },
   "source": [
    "1. SVM\n",
    "2. Random Forest\n"
   ]
  },
  {
   "cell_type": "code",
   "execution_count": 40,
   "id": "9eea3f39",
   "metadata": {
    "execution": {
     "iopub.execute_input": "2022-03-05T13:40:47.610170Z",
     "iopub.status.busy": "2022-03-05T13:40:47.609459Z",
     "iopub.status.idle": "2022-03-05T13:40:47.844332Z",
     "shell.execute_reply": "2022-03-05T13:40:47.843696Z",
     "shell.execute_reply.started": "2022-03-05T13:37:54.694304Z"
    },
    "papermill": {
     "duration": 0.304381,
     "end_time": "2022-03-05T13:40:47.844515",
     "exception": false,
     "start_time": "2022-03-05T13:40:47.540134",
     "status": "completed"
    },
    "tags": []
   },
   "outputs": [],
   "source": [
    "\n",
    "# import SVC classifier\n",
    "from sklearn.svm import SVC\n",
    "from sklearn.ensemble import RandomForestClassifier\n",
    "\n",
    "# import metrics to compute accuracy (Evulate)\n",
    "from sklearn.metrics import accuracy_score, confusion_matrix,classification_report\n",
    "from sklearn.model_selection import cross_val_score, GridSearchCV"
   ]
  },
  {
   "cell_type": "markdown",
   "id": "3fe38587",
   "metadata": {
    "papermill": {
     "duration": 0.064171,
     "end_time": "2022-03-05T13:40:47.972251",
     "exception": false,
     "start_time": "2022-03-05T13:40:47.908080",
     "status": "completed"
    },
    "tags": []
   },
   "source": [
    "# Firstly SVM"
   ]
  },
  {
   "cell_type": "markdown",
   "id": "753fd2fe",
   "metadata": {
    "papermill": {
     "duration": 0.065265,
     "end_time": "2022-03-05T13:40:48.102291",
     "exception": false,
     "start_time": "2022-03-05T13:40:48.037026",
     "status": "completed"
    },
    "tags": []
   },
   "source": [
    "# Run SVM with default hyperparameters"
   ]
  },
  {
   "cell_type": "code",
   "execution_count": 41,
   "id": "061286cf",
   "metadata": {
    "execution": {
     "iopub.execute_input": "2022-03-05T13:40:48.233016Z",
     "iopub.status.busy": "2022-03-05T13:40:48.232222Z",
     "iopub.status.idle": "2022-03-05T13:40:48.235551Z",
     "shell.execute_reply": "2022-03-05T13:40:48.236083Z",
     "shell.execute_reply.started": "2022-03-05T13:37:56.820885Z"
    },
    "papermill": {
     "duration": 0.070025,
     "end_time": "2022-03-05T13:40:48.236302",
     "exception": false,
     "start_time": "2022-03-05T13:40:48.166277",
     "status": "completed"
    },
    "tags": []
   },
   "outputs": [],
   "source": [
    "svc=SVC()"
   ]
  },
  {
   "cell_type": "code",
   "execution_count": 42,
   "id": "aadd9226",
   "metadata": {
    "execution": {
     "iopub.execute_input": "2022-03-05T13:40:48.366813Z",
     "iopub.status.busy": "2022-03-05T13:40:48.366052Z",
     "iopub.status.idle": "2022-03-05T13:40:50.351919Z",
     "shell.execute_reply": "2022-03-05T13:40:50.352434Z",
     "shell.execute_reply.started": "2022-03-05T13:37:58.048324Z"
    },
    "papermill": {
     "duration": 2.052881,
     "end_time": "2022-03-05T13:40:50.352665",
     "exception": false,
     "start_time": "2022-03-05T13:40:48.299784",
     "status": "completed"
    },
    "tags": []
   },
   "outputs": [
    {
     "data": {
      "text/html": [
       "<style>#sk-container-id-1 {color: black;}#sk-container-id-1 pre{padding: 0;}#sk-container-id-1 div.sk-toggleable {background-color: white;}#sk-container-id-1 label.sk-toggleable__label {cursor: pointer;display: block;width: 100%;margin-bottom: 0;padding: 0.3em;box-sizing: border-box;text-align: center;}#sk-container-id-1 label.sk-toggleable__label-arrow:before {content: \"▸\";float: left;margin-right: 0.25em;color: #696969;}#sk-container-id-1 label.sk-toggleable__label-arrow:hover:before {color: black;}#sk-container-id-1 div.sk-estimator:hover label.sk-toggleable__label-arrow:before {color: black;}#sk-container-id-1 div.sk-toggleable__content {max-height: 0;max-width: 0;overflow: hidden;text-align: left;background-color: #f0f8ff;}#sk-container-id-1 div.sk-toggleable__content pre {margin: 0.2em;color: black;border-radius: 0.25em;background-color: #f0f8ff;}#sk-container-id-1 input.sk-toggleable__control:checked~div.sk-toggleable__content {max-height: 200px;max-width: 100%;overflow: auto;}#sk-container-id-1 input.sk-toggleable__control:checked~label.sk-toggleable__label-arrow:before {content: \"▾\";}#sk-container-id-1 div.sk-estimator input.sk-toggleable__control:checked~label.sk-toggleable__label {background-color: #d4ebff;}#sk-container-id-1 div.sk-label input.sk-toggleable__control:checked~label.sk-toggleable__label {background-color: #d4ebff;}#sk-container-id-1 input.sk-hidden--visually {border: 0;clip: rect(1px 1px 1px 1px);clip: rect(1px, 1px, 1px, 1px);height: 1px;margin: -1px;overflow: hidden;padding: 0;position: absolute;width: 1px;}#sk-container-id-1 div.sk-estimator {font-family: monospace;background-color: #f0f8ff;border: 1px dotted black;border-radius: 0.25em;box-sizing: border-box;margin-bottom: 0.5em;}#sk-container-id-1 div.sk-estimator:hover {background-color: #d4ebff;}#sk-container-id-1 div.sk-parallel-item::after {content: \"\";width: 100%;border-bottom: 1px solid gray;flex-grow: 1;}#sk-container-id-1 div.sk-label:hover label.sk-toggleable__label {background-color: #d4ebff;}#sk-container-id-1 div.sk-serial::before {content: \"\";position: absolute;border-left: 1px solid gray;box-sizing: border-box;top: 0;bottom: 0;left: 50%;z-index: 0;}#sk-container-id-1 div.sk-serial {display: flex;flex-direction: column;align-items: center;background-color: white;padding-right: 0.2em;padding-left: 0.2em;position: relative;}#sk-container-id-1 div.sk-item {position: relative;z-index: 1;}#sk-container-id-1 div.sk-parallel {display: flex;align-items: stretch;justify-content: center;background-color: white;position: relative;}#sk-container-id-1 div.sk-item::before, #sk-container-id-1 div.sk-parallel-item::before {content: \"\";position: absolute;border-left: 1px solid gray;box-sizing: border-box;top: 0;bottom: 0;left: 50%;z-index: -1;}#sk-container-id-1 div.sk-parallel-item {display: flex;flex-direction: column;z-index: 1;position: relative;background-color: white;}#sk-container-id-1 div.sk-parallel-item:first-child::after {align-self: flex-end;width: 50%;}#sk-container-id-1 div.sk-parallel-item:last-child::after {align-self: flex-start;width: 50%;}#sk-container-id-1 div.sk-parallel-item:only-child::after {width: 0;}#sk-container-id-1 div.sk-dashed-wrapped {border: 1px dashed gray;margin: 0 0.4em 0.5em 0.4em;box-sizing: border-box;padding-bottom: 0.4em;background-color: white;}#sk-container-id-1 div.sk-label label {font-family: monospace;font-weight: bold;display: inline-block;line-height: 1.2em;}#sk-container-id-1 div.sk-label-container {text-align: center;}#sk-container-id-1 div.sk-container {/* jupyter's `normalize.less` sets `[hidden] { display: none; }` but bootstrap.min.css set `[hidden] { display: none !important; }` so we also need the `!important` here to be able to override the default hidden behavior on the sphinx rendered scikit-learn.org. See: https://github.com/scikit-learn/scikit-learn/issues/21755 */display: inline-block !important;position: relative;}#sk-container-id-1 div.sk-text-repr-fallback {display: none;}</style><div id=\"sk-container-id-1\" class=\"sk-top-container\"><div class=\"sk-text-repr-fallback\"><pre>SVC()</pre><b>In a Jupyter environment, please rerun this cell to show the HTML representation or trust the notebook. <br />On GitHub, the HTML representation is unable to render, please try loading this page with nbviewer.org.</b></div><div class=\"sk-container\" hidden><div class=\"sk-item\"><div class=\"sk-estimator sk-toggleable\"><input class=\"sk-toggleable__control sk-hidden--visually\" id=\"sk-estimator-id-1\" type=\"checkbox\" checked><label for=\"sk-estimator-id-1\" class=\"sk-toggleable__label sk-toggleable__label-arrow\">SVC</label><div class=\"sk-toggleable__content\"><pre>SVC()</pre></div></div></div></div></div>"
      ],
      "text/plain": [
       "SVC()"
      ]
     },
     "execution_count": 42,
     "metadata": {},
     "output_type": "execute_result"
    }
   ],
   "source": [
    "svc.fit(X_train,y_train)"
   ]
  },
  {
   "cell_type": "code",
   "execution_count": 43,
   "id": "9ae95aae",
   "metadata": {
    "execution": {
     "iopub.execute_input": "2022-03-05T13:40:50.492294Z",
     "iopub.status.busy": "2022-03-05T13:40:50.491521Z",
     "iopub.status.idle": "2022-03-05T13:40:52.665584Z",
     "shell.execute_reply": "2022-03-05T13:40:52.664898Z",
     "shell.execute_reply.started": "2022-03-05T13:37:59.675702Z"
    },
    "papermill": {
     "duration": 2.242859,
     "end_time": "2022-03-05T13:40:52.665759",
     "exception": false,
     "start_time": "2022-03-05T13:40:50.422900",
     "status": "completed"
    },
    "tags": []
   },
   "outputs": [],
   "source": [
    "y_pred=svc.predict(X_test)"
   ]
  },
  {
   "cell_type": "markdown",
   "id": "e9874c24",
   "metadata": {
    "papermill": {
     "duration": 0.067437,
     "end_time": "2022-03-05T13:40:52.797753",
     "exception": false,
     "start_time": "2022-03-05T13:40:52.730316",
     "status": "completed"
    },
    "tags": []
   },
   "source": [
    "# Default SVC Score"
   ]
  },
  {
   "cell_type": "code",
   "execution_count": 44,
   "id": "5c05ff1b",
   "metadata": {
    "execution": {
     "iopub.execute_input": "2022-03-05T13:40:52.928712Z",
     "iopub.status.busy": "2022-03-05T13:40:52.927645Z",
     "iopub.status.idle": "2022-03-05T13:40:52.934151Z",
     "shell.execute_reply": "2022-03-05T13:40:52.934977Z",
     "shell.execute_reply.started": "2022-03-05T13:38:04.882717Z"
    },
    "papermill": {
     "duration": 0.074481,
     "end_time": "2022-03-05T13:40:52.935309",
     "exception": false,
     "start_time": "2022-03-05T13:40:52.860828",
     "status": "completed"
    },
    "tags": []
   },
   "outputs": [
    {
     "name": "stdout",
     "output_type": "stream",
     "text": [
      "Model accuracy score with default hyperparameters: 0.9748\n"
     ]
    }
   ],
   "source": [
    "# compute and print accuracy score\n",
    "print('Model accuracy score with default hyperparameters: {0:0.4f}'. format(accuracy_score(y_test, y_pred)))"
   ]
  },
  {
   "cell_type": "markdown",
   "id": "90619a4d",
   "metadata": {
    "papermill": {
     "duration": 0.063848,
     "end_time": "2022-03-05T13:40:53.065300",
     "exception": false,
     "start_time": "2022-03-05T13:40:53.001452",
     "status": "completed"
    },
    "tags": []
   },
   "source": [
    "# Now Some Hyperparameter where kernel use rbf and C=100.0"
   ]
  },
  {
   "cell_type": "code",
   "execution_count": 45,
   "id": "1a1cfcb8",
   "metadata": {
    "execution": {
     "iopub.execute_input": "2022-03-05T13:40:53.196047Z",
     "iopub.status.busy": "2022-03-05T13:40:53.194901Z",
     "iopub.status.idle": "2022-03-05T13:40:56.369832Z",
     "shell.execute_reply": "2022-03-05T13:40:56.369227Z",
     "shell.execute_reply.started": "2022-03-05T13:38:06.892673Z"
    },
    "papermill": {
     "duration": 3.241603,
     "end_time": "2022-03-05T13:40:56.370003",
     "exception": false,
     "start_time": "2022-03-05T13:40:53.128400",
     "status": "completed"
    },
    "tags": []
   },
   "outputs": [
    {
     "name": "stdout",
     "output_type": "stream",
     "text": [
      "Model accuracy score with rbf kernel and C=100.0 : 0.9884\n"
     ]
    }
   ],
   "source": [
    "svc2=SVC(kernel='rbf',C=100.0)\n",
    "\n",
    "\n",
    "# fit classifier to training set\n",
    "svc2.fit(X_train,y_train)\n",
    "\n",
    "# make predictions on test set\n",
    "y_pred2 = svc2.predict(X_test)\n",
    "\n",
    "# compute and print accuracy score\n",
    "print('Model accuracy score with rbf kernel and C=100.0 : {0:0.4f}'. format(accuracy_score(y_test, y_pred2)))"
   ]
  },
  {
   "cell_type": "markdown",
   "id": "fb337aba",
   "metadata": {
    "papermill": {
     "duration": 0.064391,
     "end_time": "2022-03-05T13:40:56.502963",
     "exception": false,
     "start_time": "2022-03-05T13:40:56.438572",
     "status": "completed"
    },
    "tags": []
   },
   "source": [
    "# Now Random Forest Classifier"
   ]
  },
  {
   "cell_type": "code",
   "execution_count": 46,
   "id": "692df343",
   "metadata": {
    "execution": {
     "iopub.execute_input": "2022-03-05T13:40:56.641862Z",
     "iopub.status.busy": "2022-03-05T13:40:56.640750Z",
     "iopub.status.idle": "2022-03-05T13:40:56.644889Z",
     "shell.execute_reply": "2022-03-05T13:40:56.645424Z",
     "shell.execute_reply.started": "2022-03-05T13:39:04.897288Z"
    },
    "papermill": {
     "duration": 0.078357,
     "end_time": "2022-03-05T13:40:56.645628",
     "exception": false,
     "start_time": "2022-03-05T13:40:56.567271",
     "status": "completed"
    },
    "tags": []
   },
   "outputs": [],
   "source": [
    "rand_clf=RandomForestClassifier(random_state=5)"
   ]
  },
  {
   "cell_type": "code",
   "execution_count": 47,
   "id": "20884a35",
   "metadata": {
    "execution": {
     "iopub.execute_input": "2022-03-05T13:40:56.778529Z",
     "iopub.status.busy": "2022-03-05T13:40:56.777384Z",
     "iopub.status.idle": "2022-03-05T13:41:06.352213Z",
     "shell.execute_reply": "2022-03-05T13:41:06.352739Z",
     "shell.execute_reply.started": "2022-03-05T13:39:05.458791Z"
    },
    "papermill": {
     "duration": 9.642985,
     "end_time": "2022-03-05T13:41:06.352945",
     "exception": false,
     "start_time": "2022-03-05T13:40:56.709960",
     "status": "completed"
    },
    "tags": []
   },
   "outputs": [
    {
     "data": {
      "text/html": [
       "<style>#sk-container-id-2 {color: black;}#sk-container-id-2 pre{padding: 0;}#sk-container-id-2 div.sk-toggleable {background-color: white;}#sk-container-id-2 label.sk-toggleable__label {cursor: pointer;display: block;width: 100%;margin-bottom: 0;padding: 0.3em;box-sizing: border-box;text-align: center;}#sk-container-id-2 label.sk-toggleable__label-arrow:before {content: \"▸\";float: left;margin-right: 0.25em;color: #696969;}#sk-container-id-2 label.sk-toggleable__label-arrow:hover:before {color: black;}#sk-container-id-2 div.sk-estimator:hover label.sk-toggleable__label-arrow:before {color: black;}#sk-container-id-2 div.sk-toggleable__content {max-height: 0;max-width: 0;overflow: hidden;text-align: left;background-color: #f0f8ff;}#sk-container-id-2 div.sk-toggleable__content pre {margin: 0.2em;color: black;border-radius: 0.25em;background-color: #f0f8ff;}#sk-container-id-2 input.sk-toggleable__control:checked~div.sk-toggleable__content {max-height: 200px;max-width: 100%;overflow: auto;}#sk-container-id-2 input.sk-toggleable__control:checked~label.sk-toggleable__label-arrow:before {content: \"▾\";}#sk-container-id-2 div.sk-estimator input.sk-toggleable__control:checked~label.sk-toggleable__label {background-color: #d4ebff;}#sk-container-id-2 div.sk-label input.sk-toggleable__control:checked~label.sk-toggleable__label {background-color: #d4ebff;}#sk-container-id-2 input.sk-hidden--visually {border: 0;clip: rect(1px 1px 1px 1px);clip: rect(1px, 1px, 1px, 1px);height: 1px;margin: -1px;overflow: hidden;padding: 0;position: absolute;width: 1px;}#sk-container-id-2 div.sk-estimator {font-family: monospace;background-color: #f0f8ff;border: 1px dotted black;border-radius: 0.25em;box-sizing: border-box;margin-bottom: 0.5em;}#sk-container-id-2 div.sk-estimator:hover {background-color: #d4ebff;}#sk-container-id-2 div.sk-parallel-item::after {content: \"\";width: 100%;border-bottom: 1px solid gray;flex-grow: 1;}#sk-container-id-2 div.sk-label:hover label.sk-toggleable__label {background-color: #d4ebff;}#sk-container-id-2 div.sk-serial::before {content: \"\";position: absolute;border-left: 1px solid gray;box-sizing: border-box;top: 0;bottom: 0;left: 50%;z-index: 0;}#sk-container-id-2 div.sk-serial {display: flex;flex-direction: column;align-items: center;background-color: white;padding-right: 0.2em;padding-left: 0.2em;position: relative;}#sk-container-id-2 div.sk-item {position: relative;z-index: 1;}#sk-container-id-2 div.sk-parallel {display: flex;align-items: stretch;justify-content: center;background-color: white;position: relative;}#sk-container-id-2 div.sk-item::before, #sk-container-id-2 div.sk-parallel-item::before {content: \"\";position: absolute;border-left: 1px solid gray;box-sizing: border-box;top: 0;bottom: 0;left: 50%;z-index: -1;}#sk-container-id-2 div.sk-parallel-item {display: flex;flex-direction: column;z-index: 1;position: relative;background-color: white;}#sk-container-id-2 div.sk-parallel-item:first-child::after {align-self: flex-end;width: 50%;}#sk-container-id-2 div.sk-parallel-item:last-child::after {align-self: flex-start;width: 50%;}#sk-container-id-2 div.sk-parallel-item:only-child::after {width: 0;}#sk-container-id-2 div.sk-dashed-wrapped {border: 1px dashed gray;margin: 0 0.4em 0.5em 0.4em;box-sizing: border-box;padding-bottom: 0.4em;background-color: white;}#sk-container-id-2 div.sk-label label {font-family: monospace;font-weight: bold;display: inline-block;line-height: 1.2em;}#sk-container-id-2 div.sk-label-container {text-align: center;}#sk-container-id-2 div.sk-container {/* jupyter's `normalize.less` sets `[hidden] { display: none; }` but bootstrap.min.css set `[hidden] { display: none !important; }` so we also need the `!important` here to be able to override the default hidden behavior on the sphinx rendered scikit-learn.org. See: https://github.com/scikit-learn/scikit-learn/issues/21755 */display: inline-block !important;position: relative;}#sk-container-id-2 div.sk-text-repr-fallback {display: none;}</style><div id=\"sk-container-id-2\" class=\"sk-top-container\"><div class=\"sk-text-repr-fallback\"><pre>RandomForestClassifier(random_state=5)</pre><b>In a Jupyter environment, please rerun this cell to show the HTML representation or trust the notebook. <br />On GitHub, the HTML representation is unable to render, please try loading this page with nbviewer.org.</b></div><div class=\"sk-container\" hidden><div class=\"sk-item\"><div class=\"sk-estimator sk-toggleable\"><input class=\"sk-toggleable__control sk-hidden--visually\" id=\"sk-estimator-id-2\" type=\"checkbox\" checked><label for=\"sk-estimator-id-2\" class=\"sk-toggleable__label sk-toggleable__label-arrow\">RandomForestClassifier</label><div class=\"sk-toggleable__content\"><pre>RandomForestClassifier(random_state=5)</pre></div></div></div></div></div>"
      ],
      "text/plain": [
       "RandomForestClassifier(random_state=5)"
      ]
     },
     "execution_count": 47,
     "metadata": {},
     "output_type": "execute_result"
    }
   ],
   "source": [
    "rand_clf.fit(X_train,y_train)"
   ]
  },
  {
   "cell_type": "code",
   "execution_count": 48,
   "id": "3a466f67",
   "metadata": {
    "execution": {
     "iopub.execute_input": "2022-03-05T13:41:06.492364Z",
     "iopub.status.busy": "2022-03-05T13:41:06.489569Z",
     "iopub.status.idle": "2022-03-05T13:41:06.543856Z",
     "shell.execute_reply": "2022-03-05T13:41:06.544413Z",
     "shell.execute_reply.started": "2022-03-05T13:39:13.348829Z"
    },
    "papermill": {
     "duration": 0.125872,
     "end_time": "2022-03-05T13:41:06.544709",
     "exception": false,
     "start_time": "2022-03-05T13:41:06.418837",
     "status": "completed"
    },
    "tags": []
   },
   "outputs": [
    {
     "data": {
      "text/plain": [
       "0.981645139360979"
      ]
     },
     "execution_count": 48,
     "metadata": {},
     "output_type": "execute_result"
    }
   ],
   "source": [
    "# compute and print accuracy score\n",
    "rand_clf.score(X_test,y_test)"
   ]
  },
  {
   "cell_type": "markdown",
   "id": "35f5e4c0",
   "metadata": {
    "papermill": {
     "duration": 0.065926,
     "end_time": "2022-03-05T13:41:06.680446",
     "exception": false,
     "start_time": "2022-03-05T13:41:06.614520",
     "status": "completed"
    },
    "tags": []
   },
   "source": [
    "# Hyperparameters of Random Forest Classifier:\n",
    "\n",
    "# These are the parameters\n",
    "\n",
    "1. max_depth: The max_depth of a tree in Random Forest is defined as the longest path between the root node and the leaf node.\n",
    "2. min_sample_split: Parameter that tells the decision tree in a random forest the minimum required number of observations in any given node to split it. Default = 2\n",
    "3. max_leaf_nodes: This hyperparameter sets a condition on the splitting of the nodes in the tree and hence restricts the growth of the tree.\n",
    "4. min_samples_leaf: This Random Forest hyperparameter specifies the minimum number of samples that should be present in the leaf node after splitting a node. Default = 1\n",
    "5. n_estimators: Number of trees in the forest.\n",
    "6. max_sample: The max_samples hyperparameter determines what fraction of the original dataset is given to any individual tree.\n",
    "7. max_features: This resembles the number of maximum features provided to each tree in a random forest.\n",
    "8. bootstrap: Method for sampling data points (with or without replacement). Default = True\n",
    "9. criterion: The function to measure the quality of a split. Supported criteria are “gini” for the Gini impurity and “entropy” for the information gain.\n",
    "\n",
    "# Now, manually setting the hyperparameters, and using GridSearchCV for Hyperparameter Tuning:\n"
   ]
  },
  {
   "cell_type": "code",
   "execution_count": 49,
   "id": "fc719ff4",
   "metadata": {
    "execution": {
     "iopub.execute_input": "2022-03-05T13:41:06.817373Z",
     "iopub.status.busy": "2022-03-05T13:41:06.816577Z",
     "iopub.status.idle": "2022-03-05T13:41:06.819119Z",
     "shell.execute_reply": "2022-03-05T13:41:06.819683Z",
     "shell.execute_reply.started": "2022-03-05T13:32:57.519494Z"
    },
    "papermill": {
     "duration": 0.075021,
     "end_time": "2022-03-05T13:41:06.819878",
     "exception": false,
     "start_time": "2022-03-05T13:41:06.744857",
     "status": "completed"
    },
    "tags": []
   },
   "outputs": [],
   "source": [
    "grid_param={\n",
    "    'n_estimators':[90,100,115,130],\n",
    "    'criterion':['gini','entropy'],\n",
    "    'max_depth':range(2,20,1),\n",
    "    'min_samples_leaf':range(1,10,1),\n",
    "    'min_samples_split':range(2,10,1),\n",
    "    'max_features':['auto','log2']\n",
    "}"
   ]
  },
  {
   "cell_type": "code",
   "execution_count": 50,
   "id": "573afc4b",
   "metadata": {
    "execution": {
     "iopub.execute_input": "2022-03-05T13:41:06.955909Z",
     "iopub.status.busy": "2022-03-05T13:41:06.955163Z",
     "iopub.status.idle": "2022-03-05T13:41:06.957935Z",
     "shell.execute_reply": "2022-03-05T13:41:06.957353Z",
     "shell.execute_reply.started": "2022-03-05T13:32:57.526155Z"
    },
    "papermill": {
     "duration": 0.072808,
     "end_time": "2022-03-05T13:41:06.958099",
     "exception": false,
     "start_time": "2022-03-05T13:41:06.885291",
     "status": "completed"
    },
    "tags": []
   },
   "outputs": [],
   "source": [
    "grid_search=GridSearchCV(estimator=rand_clf,param_grid=grid_param,cv=5,n_jobs=-1,verbose=3)"
   ]
  },
  {
   "cell_type": "code",
   "execution_count": 51,
   "id": "6895b9ed",
   "metadata": {
    "execution": {
     "iopub.execute_input": "2022-03-05T13:41:07.096908Z",
     "iopub.status.busy": "2022-03-05T13:41:07.096110Z",
     "iopub.status.idle": "2022-03-05T13:41:07.098762Z",
     "shell.execute_reply": "2022-03-05T13:41:07.099291Z",
     "shell.execute_reply.started": "2022-03-05T13:32:57.534908Z"
    },
    "papermill": {
     "duration": 0.073651,
     "end_time": "2022-03-05T13:41:07.099513",
     "exception": false,
     "start_time": "2022-03-05T13:41:07.025862",
     "status": "completed"
    },
    "tags": []
   },
   "outputs": [],
   "source": [
    "#grid_search.fit(X_train,y_train)"
   ]
  },
  {
   "cell_type": "code",
   "execution_count": 52,
   "id": "d4360b8a",
   "metadata": {
    "execution": {
     "iopub.execute_input": "2022-03-05T13:41:07.235485Z",
     "iopub.status.busy": "2022-03-05T13:41:07.234714Z",
     "iopub.status.idle": "2022-03-05T13:41:07.238087Z",
     "shell.execute_reply": "2022-03-05T13:41:07.238712Z",
     "shell.execute_reply.started": "2022-03-05T13:32:57.543147Z"
    },
    "papermill": {
     "duration": 0.073846,
     "end_time": "2022-03-05T13:41:07.238911",
     "exception": false,
     "start_time": "2022-03-05T13:41:07.165065",
     "status": "completed"
    },
    "tags": []
   },
   "outputs": [],
   "source": [
    "#grid_search.best_params_"
   ]
  },
  {
   "cell_type": "code",
   "execution_count": 53,
   "id": "9795e46a",
   "metadata": {
    "execution": {
     "iopub.execute_input": "2022-03-05T13:41:07.374433Z",
     "iopub.status.busy": "2022-03-05T13:41:07.372695Z",
     "iopub.status.idle": "2022-03-05T13:41:07.377504Z",
     "shell.execute_reply": "2022-03-05T13:41:07.376800Z",
     "shell.execute_reply.started": "2022-03-05T13:32:57.551396Z"
    },
    "papermill": {
     "duration": 0.073456,
     "end_time": "2022-03-05T13:41:07.377674",
     "exception": false,
     "start_time": "2022-03-05T13:41:07.304218",
     "status": "completed"
    },
    "tags": []
   },
   "outputs": [],
   "source": [
    "#rand_clf=RandomForestClassifier()"
   ]
  }
 ],
 "metadata": {
  "kernelspec": {
   "display_name": "Python 3",
   "language": "python",
   "name": "python3"
  },
  "language_info": {
   "codemirror_mode": {
    "name": "ipython",
    "version": 3
   },
   "file_extension": ".py",
   "mimetype": "text/x-python",
   "name": "python",
   "nbconvert_exporter": "python",
   "pygments_lexer": "ipython3",
   "version": "3.9.2"
  },
  "papermill": {
   "default_parameters": {},
   "duration": 40.350192,
   "end_time": "2022-03-05T13:41:08.557773",
   "environment_variables": {},
   "exception": null,
   "input_path": "__notebook__.ipynb",
   "output_path": "__notebook__.ipynb",
   "parameters": {},
   "start_time": "2022-03-05T13:40:28.207581",
   "version": "2.3.3"
  }
 },
 "nbformat": 4,
 "nbformat_minor": 5
}
